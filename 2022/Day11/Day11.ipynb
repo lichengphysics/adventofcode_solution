{
 "cells": [
  {
   "cell_type": "code",
   "execution_count": 1,
   "id": "95423138-26ff-4671-a89f-7005cbe868d1",
   "metadata": {},
   "outputs": [],
   "source": [
    "class monkey:\n",
    "    def __init__(self, input_string):\n",
    "        \"\"\"\n",
    "        Readin the input string for each monkey, and initiate the class\n",
    "        \"\"\"\n",
    "        input_lines = input_string.split(\"\\n\")\n",
    "        assert len(input_lines) == 6, \"each monkey has 6 lines of data\"\n",
    "        self.name = input_lines[0][len(\"Monkey \"):-1]\n",
    "        # In the following, we assume the name of monkey are sorted integers.\n",
    "        # As a result, we could use monkey list\n",
    "        # Otherwise, we need to have a dictionary to lookup the proper monkey\n",
    "        self.items = [int(x) for x in input_lines[1][len('  Starting items: '):].split(\",\")]\n",
    "        \n",
    "        operation_string_list = input_lines[2][len(\"  Operation: new = old \"):].split(\" \")\n",
    "        # Here, we assume \n",
    "        # 1. the operation following the same pattern \"new = old XXX\"\n",
    "        # 2. only two type of operations are supported, \"+\" and \"*\"\n",
    "        # 3. the parameter could either be \"old\" or an integer\n",
    "        if operation_string_list[1] == \"old\":\n",
    "            if operation_string_list[0] == \"+\":\n",
    "                self.operation = lambda x: x + x\n",
    "            elif operation_string_list[0] == \"*\":\n",
    "                self.operation = lambda x: x * x\n",
    "        else:\n",
    "            parameter = int(operation_string_list[1])\n",
    "            if operation_string_list[0] == \"+\":\n",
    "                self.operation = lambda x: x + parameter\n",
    "            elif operation_string_list[0] == \"*\":\n",
    "                self.operation = lambda x: x * parameter\n",
    "            \n",
    "        self.test = int(input_lines[3][len(\"  Test: divisible by \"):])\n",
    "        self.operation_true = int(input_lines[4][len(\"    If true: throw to monkey \"):])\n",
    "        self.operation_false = int(input_lines[5][len(\"    If false: throw to monkey \"):])\n",
    "        \n",
    "        self.inspect_count = 0\n",
    "        \n",
    "    def inspect(self, part_1 = True, lsm = None):\n",
    "        \"\"\"\n",
    "        follow the operation, and return a dictionary. \n",
    "        The dictionary should only have two items.\n",
    "        The key of the dictionary are the index of two monkeys, \n",
    "        We expect the current monkey would throw the items to the corresponding monkey.\n",
    "        \"\"\"\n",
    "        self.items = [self.operation(x) for x in self.items]\n",
    "        if part_1:\n",
    "            # In Part one, the worry level is manageable, as worry level is devided by 3\n",
    "            self.items = [x // 3 for x in self.items]\n",
    "        else:\n",
    "            # In Part two, the worry level is no longer devided by 3\n",
    "            # the multiples and adds would make the number exploid. \n",
    "            # However, the tests are all \"divisible by XX\". \n",
    "            # The tests would not change if we take the residule of the least common multiple (LSM) of all the divisors.\n",
    "            self.items = [x % lsm for x in self.items]\n",
    "        \n",
    "        true_list = [x for x in self.items if x % self.test == 0]\n",
    "        false_list = [x for x in self.items if x % self.test != 0]\n",
    "        self.inspect_count = self.inspect_count + len(self.items)\n",
    "        self.items = []\n",
    "       \n",
    "        return {\n",
    "            self.operation_true: true_list,\n",
    "            self.operation_false: false_list\n",
    "        }\n",
    "            \n",
    "        \n",
    "class monkey_list():\n",
    "    def __init__(self,input_string_list):\n",
    "        self.monkey_list = [monkey(x) for x in input_string_list]\n",
    "        test_lsm = 1\n",
    "        for x in self.monkey_list:\n",
    "            test_lsm = test_lsm * x.test \n",
    "        self.test_lsm = test_lsm\n",
    "        # Idealy, it should be the least common multiple\n",
    "        # However, both in the example and the input, the divisors are all prime numbers.\n",
    "        # Therefore, we could simply take the product of all of them.\n",
    "        \n",
    "    def operation_round(self, part_1 = True):\n",
    "        for m in self.monkey_list:\n",
    "            throw_list = m.inspect(part_1, self.test_lsm)\n",
    "            for k, v in throw_list.items():\n",
    "                self.monkey_list[k].items = self.monkey_list[k].items + v\n",
    "    \n",
    "    def show_item(self):\n",
    "        return [x.items for x in self.monkey_list]\n",
    "    \n",
    "    def show_inspect_count(self):\n",
    "        return [x.inspect_count for x in self.monkey_list]\n",
    "    \n",
    "    def repeat_round(self, n_round, part_1 = True, \n",
    "                     show_item = None, show_inspect_count = None):\n",
    "        for x in range(n_round):\n",
    "            self.operation_round(part_1)\n",
    "            if show_item is not None and (x + 1) % show_item == 0:\n",
    "                print(f\"after {x+1}-th round items: \", self.show_item())\n",
    "            if show_inspect_count is not None and (x + 1) % show_inspect_count == 0:\n",
    "                print(f\"after {x+1}-th round inspect counts: \", self.show_inspect_count())\n",
    "                \n",
    "    "
   ]
  },
  {
   "cell_type": "markdown",
   "id": "03b5e50d-7f9f-4b72-9dce-4d6f33ea7017",
   "metadata": {},
   "source": [
    "# Example"
   ]
  },
  {
   "cell_type": "code",
   "execution_count": 2,
   "id": "7b5e10b9-894e-4bf3-a12a-6b0562b6df3f",
   "metadata": {},
   "outputs": [],
   "source": [
    "with open(\"input_example.txt\", \"r\") as f:\n",
    "    data_example = f.read().split(\"\\n\\n\")"
   ]
  },
  {
   "cell_type": "code",
   "execution_count": 3,
   "id": "3272cabd-41e8-403f-900d-973c83e410aa",
   "metadata": {},
   "outputs": [
    {
     "name": "stdout",
     "output_type": "stream",
     "text": [
      "after 1-th round items:  [[20, 23, 27, 26], [2080, 25, 167, 207, 401, 1046], [], []]\n",
      "after 2-th round items:  [[695, 10, 71, 135, 350], [43, 49, 58, 55, 362], [], []]\n",
      "after 3-th round items:  [[16, 18, 21, 20, 122], [1468, 22, 150, 286, 739], [], []]\n",
      "after 4-th round items:  [[491, 9, 52, 97, 248, 34], [39, 45, 43, 258], [], []]\n",
      "after 5-th round items:  [[15, 17, 16, 88, 1037], [20, 110, 205, 524, 72], [], []]\n",
      "after 6-th round items:  [[8, 70, 176, 26, 34], [481, 32, 36, 186, 2190], [], []]\n",
      "after 7-th round items:  [[162, 12, 14, 64, 732, 17], [148, 372, 55, 72], [], []]\n",
      "after 8-th round items:  [[51, 126, 20, 26, 136], [343, 26, 30, 1546, 36], [], []]\n",
      "after 9-th round items:  [[116, 10, 12, 517, 14], [108, 267, 43, 55, 288], [], []]\n",
      "after 10-th round items:  [[91, 16, 20, 98], [481, 245, 22, 26, 1092, 30], [], []]\n",
      "after 11-th round items:  [[162, 83, 9, 10, 366, 12, 34], [193, 43, 207], [], []]\n",
      "after 12-th round items:  [[66, 16, 71], [343, 176, 20, 22, 773, 26, 72], [], []]\n",
      "after 13-th round items:  [[116, 60, 8, 9, 259, 10, 26, 34], [140, 150], [], []]\n",
      "after 14-th round items:  [[48, 52, 17], [245, 127, 20, 547, 22, 55, 72], [], []]\n",
      "after 15-th round items:  [[83, 44, 8, 184, 9, 20, 26, 102], [110, 36], [], []]\n",
      "after 16-th round items:  [[14, 17], [481, 176, 93, 389, 20, 43, 55, 216], [], []]\n",
      "after 17-th round items:  [[162, 60, 33, 131, 8, 16, 20, 74], [30, 36], [], []]\n",
      "after 18-th round items:  [[12, 14, 17, 34], [343, 127, 70, 277, 43, 157], [], []]\n",
      "after 19-th round items:  [[116, 44, 25, 94, 16, 54], [26, 30, 36, 72], [], []]\n",
      "after 20-th round items:  [[10, 12, 14, 26, 34], [245, 93, 53, 199, 115], [], []]\n",
      "[101, 95, 7, 105]\n",
      "10605\n"
     ]
    }
   ],
   "source": [
    "ml = monkey_list(data_example)\n",
    "ml.repeat_round(n_round = 20, part_1 = True, show_item = 1)\n",
    "inspect_count_list = ml.show_inspect_count()\n",
    "print(inspect_count_list)\n",
    "inspect_count_list = sorted(inspect_count_list, reverse=True)\n",
    "print(inspect_count_list[0] * inspect_count_list[1])"
   ]
  },
  {
   "cell_type": "code",
   "execution_count": 4,
   "id": "e7d3d18d-75a9-4268-9be7-5e5b885f8777",
   "metadata": {},
   "outputs": [
    {
     "name": "stdout",
     "output_type": "stream",
     "text": [
      "after 1000-th round inspect counts:  [5204, 4792, 199, 5192]\n",
      "after 2000-th round inspect counts:  [10419, 9577, 392, 10391]\n",
      "after 3000-th round inspect counts:  [15638, 14358, 587, 15593]\n",
      "after 4000-th round inspect counts:  [20858, 19138, 780, 20797]\n",
      "after 5000-th round inspect counts:  [26075, 23921, 974, 26000]\n",
      "after 6000-th round inspect counts:  [31294, 28702, 1165, 31204]\n",
      "after 7000-th round inspect counts:  [36508, 33488, 1360, 36400]\n",
      "after 8000-th round inspect counts:  [41728, 38268, 1553, 41606]\n",
      "after 9000-th round inspect counts:  [46945, 43051, 1746, 46807]\n",
      "after 10000-th round inspect counts:  [52166, 47830, 1938, 52013]\n",
      "[52166, 47830, 1938, 52013]\n",
      "2713310158\n"
     ]
    }
   ],
   "source": [
    "ml = monkey_list(data_example)\n",
    "ml.repeat_round(n_round = 10000, part_1 = False, show_inspect_count = 1000)\n",
    "inspect_count_list = ml.show_inspect_count()\n",
    "print(inspect_count_list)\n",
    "inspect_count_list = sorted(inspect_count_list, reverse=True)\n",
    "print(inspect_count_list[0] * inspect_count_list[1])"
   ]
  },
  {
   "cell_type": "markdown",
   "id": "072bd87c-e24a-45b7-9cd5-1f79f7f0fe7d",
   "metadata": {},
   "source": [
    "# Puzzle "
   ]
  },
  {
   "cell_type": "code",
   "execution_count": 5,
   "id": "9cb4afde-f8f0-47f4-b879-52d86878adbd",
   "metadata": {},
   "outputs": [],
   "source": [
    "with open(\"input.txt\", \"r\") as f:\n",
    "    data = f.read().split(\"\\n\\n\")"
   ]
  },
  {
   "cell_type": "code",
   "execution_count": 6,
   "id": "27020535-8ac3-4641-bacf-382e2e584d06",
   "metadata": {},
   "outputs": [
    {
     "name": "stdout",
     "output_type": "stream",
     "text": [
      "90882\n"
     ]
    }
   ],
   "source": [
    "ml = monkey_list(data)\n",
    "ml.repeat_round(n_round = 20, part_1 = True)\n",
    "inspect_count_list = ml.show_inspect_count()\n",
    "inspect_count_list = sorted(inspect_count_list, reverse=True)\n",
    "print(inspect_count_list[0] * inspect_count_list[1])"
   ]
  },
  {
   "cell_type": "code",
   "execution_count": 7,
   "id": "18b5305e-0c80-47d4-b7bd-758afc89f27c",
   "metadata": {},
   "outputs": [
    {
     "name": "stdout",
     "output_type": "stream",
     "text": [
      "30893109657\n"
     ]
    }
   ],
   "source": [
    "ml = monkey_list(data)\n",
    "ml.repeat_round(n_round = 10000, part_1 = False)\n",
    "inspect_count_list = ml.show_inspect_count()\n",
    "inspect_count_list = sorted(inspect_count_list, reverse=True)\n",
    "print(inspect_count_list[0] * inspect_count_list[1])"
   ]
  },
  {
   "cell_type": "code",
   "execution_count": null,
   "id": "5b791d7b-0ccc-46eb-a64b-885fe7c4d836",
   "metadata": {},
   "outputs": [],
   "source": []
  }
 ],
 "metadata": {
  "kernelspec": {
   "display_name": "python_3.7",
   "language": "python",
   "name": "python_3.7"
  },
  "language_info": {
   "codemirror_mode": {
    "name": "ipython",
    "version": 3
   },
   "file_extension": ".py",
   "mimetype": "text/x-python",
   "name": "python",
   "nbconvert_exporter": "python",
   "pygments_lexer": "ipython3",
   "version": "3.7.10"
  }
 },
 "nbformat": 4,
 "nbformat_minor": 5
}
