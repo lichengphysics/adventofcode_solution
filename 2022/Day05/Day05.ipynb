{
 "cells": [
  {
   "cell_type": "markdown",
   "id": "a058a857-cd1d-4321-a7c2-fa0e0ea5f9d3",
   "metadata": {},
   "source": [
    "--- Day 5: Supply Stacks ---\n",
    "\n",
    "The expedition can depart as soon as the final supplies have been unloaded from the ships. Supplies are stored in stacks of marked crates, but because the needed supplies are buried under many other crates, the crates need to be rearranged.\n",
    "\n",
    "The ship has a giant cargo crane capable of moving crates between stacks. To ensure none of the crates get crushed or fall over, the crane operator will rearrange them in a series of carefully-planned steps. After the crates are rearranged, the desired crates will be at the top of each stack.\n",
    "\n",
    "The Elves don't want to interrupt the crane operator during this delicate procedure, but they forgot to ask her which crate will end up where, and they want to be ready to unload them as soon as possible so they can embark.\n",
    "\n",
    "They do, however, have a drawing of the starting stacks of crates and the rearrangement procedure (your puzzle input). For example:\n",
    "```\n",
    "    [D]    \n",
    "[N] [C]    \n",
    "[Z] [M] [P]\n",
    " 1   2   3 \n",
    "```\n",
    "* move 1 from 2 to 1\n",
    "* move 3 from 1 to 3\n",
    "* move 2 from 2 to 1\n",
    "* move 1 from 1 to 2\n",
    "\n",
    "In this example, there are three stacks of crates. Stack 1 contains two crates: crate Z is on the bottom, and crate N is on top. Stack 2 contains three crates; from bottom to top, they are crates M, C, and D. Finally, stack 3 contains a single crate, P.\n",
    "\n",
    "Then, the rearrangement procedure is given. In each step of the procedure, a quantity of crates is moved from one stack to a different stack. In the first step of the above rearrangement procedure, one crate is moved from stack 2 to stack 1, resulting in this configuration:\n",
    "```\n",
    "[D]        \n",
    "[N] [C]    \n",
    "[Z] [M] [P]\n",
    " 1   2   3 \n",
    "```\n",
    "In the second step, three crates are moved from stack 1 to stack 3. Crates are moved one at a time, so the first crate to be moved (D) ends up below the second and third crates:\n",
    "```\n",
    "        [Z]\n",
    "        [N]\n",
    "    [C] [D]\n",
    "    [M] [P]\n",
    " 1   2   3\n",
    "```\n",
    "Then, both crates are moved from stack 2 to stack 1. Again, because crates are moved one at a time, crate C ends up below crate M:\n",
    "```\n",
    "        [Z]\n",
    "        [N]\n",
    "[M]     [D]\n",
    "[C]     [P]\n",
    " 1   2   3\n",
    "```\n",
    "Finally, one crate is moved from stack 1 to stack 2:\n",
    "```\n",
    "        [Z]\n",
    "        [N]\n",
    "        [D]\n",
    "[C] [M] [P]\n",
    " 1   2   3\n",
    "```\n",
    "The Elves just need to know which crate will end up on top of each stack; in this example, the top crates are C in stack 1, M in stack 2, and Z in stack 3, so you should combine these together and give the Elves the message CMZ.\n",
    "\n",
    "After the rearrangement procedure completes, what crate ends up on top of each stack?"
   ]
  },
  {
   "cell_type": "code",
   "execution_count": 1,
   "id": "83598b28-0ef8-4c4d-a560-e585c37412f0",
   "metadata": {},
   "outputs": [],
   "source": [
    "import re\n",
    "with open(\"input.txt\",\"r\") as f:\n",
    "    d = f.read().split(\"\\n\\n\")"
   ]
  },
  {
   "cell_type": "code",
   "execution_count": 2,
   "id": "224c3fcf-adbe-4e9e-a80e-5637704712a4",
   "metadata": {},
   "outputs": [],
   "source": [
    "d0 = d[0].split(\"\\n\")\n",
    "d1 = d[1].split(\"\\n\")"
   ]
  },
  {
   "cell_type": "code",
   "execution_count": 3,
   "id": "a539a8c5-690b-4969-851f-c38e497f68a6",
   "metadata": {},
   "outputs": [],
   "source": [
    "index_list = [d0[-1].find(f\"{x}\") for x in range(1,10)]\n",
    "status_raw = [[dd[i] for dd in d0[-2::-1] if dd[i] != \" \"] for i in index_list]\n",
    "operations_numbers = [[int(s) for s in re.findall(r'\\b\\d+\\b', x)] for x in d1]"
   ]
  },
  {
   "cell_type": "code",
   "execution_count": 4,
   "id": "a9108f2e-d2c9-4562-821a-80ab205ddffb",
   "metadata": {},
   "outputs": [],
   "source": [
    "def operate_1(status, operation):\n",
    "    status_cp = status.copy()\n",
    "    o1, o2, o3 = operation\n",
    "    status_cp[o3 - 1] = status_cp[o3 - 1] + status_cp[o2 - 1][-o1:][::-1]\n",
    "    status_cp[o2 - 1] = status_cp[o2 - 1][:-o1]\n",
    "    return status_cp"
   ]
  },
  {
   "cell_type": "code",
   "execution_count": 5,
   "id": "472450e1-9d70-4da2-9de9-1c6f20c17e7a",
   "metadata": {
    "tags": []
   },
   "outputs": [
    {
     "data": {
      "text/plain": [
       "'SHMSDGZVC'"
      ]
     },
     "execution_count": 5,
     "metadata": {},
     "output_type": "execute_result"
    }
   ],
   "source": [
    "status_1 = status_raw.copy()\n",
    "for o in operations_numbers:\n",
    "    status_1 = operate_1(status_1, o)\n",
    "\"\".join([x[-1] for x in status_1])"
   ]
  },
  {
   "cell_type": "markdown",
   "id": "0b246008-0e7d-4e44-af99-903ffdcf4eb3",
   "metadata": {},
   "source": [
    "--- Part Two ---\n",
    "\n",
    "As you watch the crane operator expertly rearrange the crates, you notice the process isn't following your prediction.\n",
    "\n",
    "Some mud was covering the writing on the side of the crane, and you quickly wipe it away. The crane isn't a CrateMover 9000 - it's a CrateMover 9001.\n",
    "\n",
    "The CrateMover 9001 is notable for many new and exciting features: air conditioning, leather seats, an extra cup holder, and the ability to pick up and move multiple crates at once.\n",
    "\n",
    "Again considering the example above, the crates begin in the same configuration:\n",
    "```\n",
    "    [D]    \n",
    "[N] [C]    \n",
    "[Z] [M] [P]\n",
    " 1   2   3 \n",
    "```\n",
    "Moving a single crate from stack 2 to stack 1 behaves the same as before:\n",
    "```\n",
    "[D]        \n",
    "[N] [C]    \n",
    "[Z] [M] [P]\n",
    " 1   2   3 \n",
    "```\n",
    "However, the action of moving three crates from stack 1 to stack 3 means that those three moved crates stay in the same order, resulting in this new configuration:\n",
    "```\n",
    "        [D]\n",
    "        [N]\n",
    "    [C] [Z]\n",
    "    [M] [P]\n",
    " 1   2   3\n",
    "```\n",
    "Next, as both crates are moved from stack 2 to stack 1, they retain their order as well:\n",
    "```\n",
    "        [D]\n",
    "        [N]\n",
    "[C]     [Z]\n",
    "[M]     [P]\n",
    " 1   2   3\n",
    "```\n",
    "Finally, a single crate is still moved from stack 1 to stack 2, but now it's crate C that gets moved:\n",
    "```\n",
    "        [D]\n",
    "        [N]\n",
    "        [Z]\n",
    "[M] [C] [P]\n",
    " 1   2   3\n",
    "```\n",
    "In this example, the CrateMover 9001 has put the crates in a totally different order: MCD.\n",
    "\n",
    "Before the rearrangement process finishes, update your simulation so that the Elves know where they should stand to be ready to unload the final supplies. After the rearrangement procedure completes, what crate ends up on top of each stack?"
   ]
  },
  {
   "cell_type": "code",
   "execution_count": 6,
   "id": "b1d65714-8108-4a9b-b5d9-883f6a503089",
   "metadata": {},
   "outputs": [],
   "source": [
    "def operate_2(status, operation):\n",
    "    status_cp = status.copy()\n",
    "    o1, o2, o3 = operation\n",
    "    status_cp[o3 - 1] = status_cp[o3 - 1] + status_cp[o2 - 1][-o1:]\n",
    "    status_cp[o2 - 1] = status_cp[o2 - 1][:-o1]\n",
    "    return status_cp"
   ]
  },
  {
   "cell_type": "code",
   "execution_count": 7,
   "id": "778bf80f-d9b3-4f7e-a160-3c4a22f7d8ad",
   "metadata": {},
   "outputs": [
    {
     "data": {
      "text/plain": [
       "'VRZGHDFBQ'"
      ]
     },
     "execution_count": 7,
     "metadata": {},
     "output_type": "execute_result"
    }
   ],
   "source": [
    "status_2 = status_raw.copy()\n",
    "for o in operations_numbers:\n",
    "    status_2 = operate_2(status_2, o)\n",
    "\"\".join([x[-1] for x in status_2])"
   ]
  },
  {
   "cell_type": "code",
   "execution_count": null,
   "id": "dc902fa5-46a0-4a00-8813-e04ac55d8d32",
   "metadata": {},
   "outputs": [],
   "source": []
  }
 ],
 "metadata": {
  "kernelspec": {
   "display_name": "python_3.7",
   "language": "python",
   "name": "python_3.7"
  },
  "language_info": {
   "codemirror_mode": {
    "name": "ipython",
    "version": 3
   },
   "file_extension": ".py",
   "mimetype": "text/x-python",
   "name": "python",
   "nbconvert_exporter": "python",
   "pygments_lexer": "ipython3",
   "version": "3.7.10"
  }
 },
 "nbformat": 4,
 "nbformat_minor": 5
}
