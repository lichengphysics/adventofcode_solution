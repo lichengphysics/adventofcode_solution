{
 "cells": [
  {
   "cell_type": "code",
   "execution_count": 1,
   "id": "15d79e0b-6b37-41ec-acb3-a71b34930f0f",
   "metadata": {},
   "outputs": [],
   "source": [
    "class elevation_map():\n",
    "    def __init__(self, elevation_map_string):\n",
    "        self.data = [list(x) for x in elevation_map_string.split(\"\\n\")]\n",
    "        self.n_row = len(self.data)\n",
    "        self.n_col = len(self.data[0])\n",
    "        self.node_list = list(range(self.n_row * self.n_col))\n",
    "        \n",
    "    def rc_2_index(self, r, c):\n",
    "        return r * self.n_col + c\n",
    "\n",
    "    def index_2_rc(self, index):\n",
    "        return index // self.n_col, index % self.n_col\n",
    "    \n",
    "    @property\n",
    "    def S_index(self):\n",
    "        for r in range(self.n_row):\n",
    "            for c in range(self.n_col):\n",
    "                if self.data[r][c] == \"S\":\n",
    "                    return self.rc_2_index(r, c)\n",
    "                \n",
    "    @property\n",
    "    def E_index(self):\n",
    "        for r in range(self.n_row):\n",
    "            for c in range(self.n_col):\n",
    "                if self.data[r][c] == \"E\":\n",
    "                    return self.rc_2_index(r, c)\n",
    "    \n",
    "    @property         \n",
    "    def a_index(self):\n",
    "        result = []\n",
    "        for r in range(self.n_row):\n",
    "            for c in range(self.n_col):\n",
    "                if self.data[r][c] == \"S\" or self.data[r][c] == \"a\":\n",
    "                    result.append(self.rc_2_index(r, c))\n",
    "        return result\n",
    "\n",
    "    def generate_neighbor(self, r, c):\n",
    "        result = []\n",
    "        if r > 0:\n",
    "            result.append((r-1, c))\n",
    "        if r < self.n_row - 1:\n",
    "            result.append((r+1, c))\n",
    "        if c > 0:\n",
    "            result.append((r, c - 1))\n",
    "        if c < self.n_col - 1:\n",
    "            result.append((r, c + 1))\n",
    "        return result\n",
    "\n",
    "    def elevation_2_int(cls, e):\n",
    "        if e == \"S\":\n",
    "            return ord(\"a\")\n",
    "        if e == \"E\":\n",
    "            return ord(\"z\")\n",
    "        return ord(e)\n",
    "    \n",
    "    @property\n",
    "    def adj(self):\n",
    "        result = {i:{} for i in self.node_list}\n",
    "        for r in range(self.n_row):\n",
    "            for c in range(self.n_col):\n",
    "                index = self.rc_2_index(r, c)\n",
    "                result[index] = dict()\n",
    "                neighbor_list = self.generate_neighbor(r, c)\n",
    "                elevation = self.elevation_2_int(self.data[r][c])\n",
    "\n",
    "                for n in neighbor_list:\n",
    "                    n_index = self.rc_2_index(n[0], n[1])\n",
    "                    elevation_n = self.elevation_2_int(self.data[n[0]][n[1]])\n",
    "                    if elevation_n < elevation + 2:\n",
    "                        result[index][n_index] = 1\n",
    "        return result\n",
    "    \n",
    "    @property\n",
    "    def reverse_adj(self):\n",
    "        result = {i:{} for i in self.node_list}\n",
    "        for r in range(self.n_row):\n",
    "            for c in range(self.n_col):\n",
    "                index = self.rc_2_index(r, c)\n",
    "                result[index] = dict()\n",
    "                neighbor_list = self.generate_neighbor(r, c)\n",
    "                elevation = self.elevation_2_int(self.data[r][c])\n",
    "\n",
    "                for n in neighbor_list:\n",
    "                    n_index = self.rc_2_index(n[0], n[1])\n",
    "                    elevation_n = self.elevation_2_int(self.data[n[0]][n[1]])\n",
    "                    if elevation_n > elevation - 2:\n",
    "                        result[index][n_index] = 1\n",
    "        return result\n",
    "    \n",
    "    def distance(self, start_index, reverse = False):\n",
    "        \n",
    "        adj = self.reverse_adj if reverse else self.adj\n",
    "        dis = {\n",
    "            x: 0 if x == start_index else (adj[start_index].get(x) or 1e99)\n",
    "            for x in self.node_list\n",
    "        }\n",
    "        \n",
    "        visited = list()\n",
    "        parents_node = {k: start_index for k in adj[start_index].keys()}\n",
    "        min_dis = None\n",
    "        min_dis_point = None\n",
    "        for i in range(len(dis)):\n",
    "            sort_dis = sorted(dis.items(), key=lambda item: item[1])\n",
    "            for p, d in sort_dis:\n",
    "                if p not in visited:\n",
    "                    min_dis_point = p\n",
    "                    min_dis = d\n",
    "                    visited.append(p)\n",
    "                    break    \n",
    "            \n",
    "            for n in adj[min_dis_point].keys():\n",
    "                update = min_dis+adj[min_dis_point][n]\n",
    "                \n",
    "                if dis[n] > update:\n",
    "                    dis[n] = update\n",
    "                    parents_node[n] = min_dis_point\n",
    "                    \n",
    "        return dis "
   ]
  },
  {
   "cell_type": "markdown",
   "id": "7b44ccf0-adea-490e-a239-3b9cc44a7c0b",
   "metadata": {},
   "source": [
    "# Example"
   ]
  },
  {
   "cell_type": "code",
   "execution_count": 2,
   "id": "55e40946-a693-4853-a018-b72f0079d939",
   "metadata": {},
   "outputs": [],
   "source": [
    "with open(\"input_example.txt\",\"r\") as f:\n",
    "    input_string = f.read()"
   ]
  },
  {
   "cell_type": "code",
   "execution_count": 3,
   "id": "bae2cc8d-47ac-4b92-9949-f0b95c0b2ff7",
   "metadata": {},
   "outputs": [],
   "source": [
    "em = elevation_map(input_string)"
   ]
  },
  {
   "cell_type": "markdown",
   "id": "a8677a77-4fb6-4584-89ac-c68aca280f39",
   "metadata": {},
   "source": [
    "## Part 1"
   ]
  },
  {
   "cell_type": "code",
   "execution_count": 4,
   "id": "6e16f4a4-7578-49a9-9714-8146b208b8ab",
   "metadata": {},
   "outputs": [
    {
     "data": {
      "text/plain": [
       "31"
      ]
     },
     "execution_count": 4,
     "metadata": {},
     "output_type": "execute_result"
    }
   ],
   "source": [
    "distance = em.distance(em.E_index, True)\n",
    "distance[em.S_index]"
   ]
  },
  {
   "cell_type": "markdown",
   "id": "8cf34fc1-5e56-4660-8d19-543ba405b6d9",
   "metadata": {},
   "source": [
    "## Part 2"
   ]
  },
  {
   "cell_type": "code",
   "execution_count": 5,
   "id": "f4d39ed5-bcdf-4df5-91e8-5d079022ead3",
   "metadata": {},
   "outputs": [
    {
     "data": {
      "text/plain": [
       "29"
      ]
     },
     "execution_count": 5,
     "metadata": {},
     "output_type": "execute_result"
    }
   ],
   "source": [
    "min([distance[x] for x in em.a_index])"
   ]
  },
  {
   "cell_type": "markdown",
   "id": "b137206f-4947-47a1-b8bc-dfd3d133abee",
   "metadata": {},
   "source": [
    "# Puzzle"
   ]
  },
  {
   "cell_type": "code",
   "execution_count": 6,
   "id": "9ec08249-04c8-4b1b-b9e2-cefa2bc7740c",
   "metadata": {},
   "outputs": [],
   "source": [
    "with open(\"input.txt\",\"r\") as f:\n",
    "    input_string = f.read()"
   ]
  },
  {
   "cell_type": "code",
   "execution_count": 7,
   "id": "05c4596a-5be8-43ef-a7c9-ff4f359c48c4",
   "metadata": {},
   "outputs": [],
   "source": [
    "em = elevation_map(input_string)"
   ]
  },
  {
   "cell_type": "markdown",
   "id": "2194b5bf-624e-4bde-965b-efe6a51b07d4",
   "metadata": {},
   "source": [
    "## Part 1"
   ]
  },
  {
   "cell_type": "code",
   "execution_count": 8,
   "id": "9e34b014-97c2-42f9-80e5-82864a1b7ace",
   "metadata": {},
   "outputs": [
    {
     "data": {
      "text/plain": [
       "370"
      ]
     },
     "execution_count": 8,
     "metadata": {},
     "output_type": "execute_result"
    }
   ],
   "source": [
    "distance = em.distance(em.E_index, True)\n",
    "distance[em.S_index]"
   ]
  },
  {
   "cell_type": "markdown",
   "id": "5a1730ae-32cf-40fc-b4c7-d2748b18b1c2",
   "metadata": {},
   "source": [
    "## Part 2"
   ]
  },
  {
   "cell_type": "code",
   "execution_count": 9,
   "id": "8edf3d90-d97f-4a65-9807-6dcbada536f6",
   "metadata": {},
   "outputs": [
    {
     "data": {
      "text/plain": [
       "363"
      ]
     },
     "execution_count": 9,
     "metadata": {},
     "output_type": "execute_result"
    }
   ],
   "source": [
    "min([distance[x] for x in em.a_index])"
   ]
  },
  {
   "cell_type": "code",
   "execution_count": null,
   "id": "a2ca0e7b-1b19-4a8f-9aee-141204ffea55",
   "metadata": {},
   "outputs": [],
   "source": []
  }
 ],
 "metadata": {
  "kernelspec": {
   "display_name": "python_3.7",
   "language": "python",
   "name": "python_3.7"
  },
  "language_info": {
   "codemirror_mode": {
    "name": "ipython",
    "version": 3
   },
   "file_extension": ".py",
   "mimetype": "text/x-python",
   "name": "python",
   "nbconvert_exporter": "python",
   "pygments_lexer": "ipython3",
   "version": "3.7.10"
  }
 },
 "nbformat": 4,
 "nbformat_minor": 5
}
