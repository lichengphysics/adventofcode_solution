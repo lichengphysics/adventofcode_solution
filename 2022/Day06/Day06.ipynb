{
 "cells": [
  {
   "cell_type": "markdown",
   "id": "1413ed40-ebb8-4078-bed8-67a37bf0a545",
   "metadata": {},
   "source": [
    "--- Day 6: Tuning Trouble ---\n",
    "\n",
    "The preparations are finally complete; you and the Elves leave camp on foot and begin to make your way toward the star fruit grove.\n",
    "\n",
    "As you move through the dense undergrowth, one of the Elves gives you a handheld device. He says that it has many fancy features, but the most important one to set up right now is the communication system.\n",
    "\n",
    "However, because he's heard you have significant experience dealing with signal-based systems, he convinced the other Elves that it would be okay to give you their one malfunctioning device - surely you'll have no problem fixing it.\n",
    "\n",
    "As if inspired by comedic timing, the device emits a few colorful sparks.\n",
    "\n",
    "To be able to communicate with the Elves, the device needs to lock on to their signal. The signal is a series of seemingly-random characters that the device receives one at a time.\n",
    "\n",
    "To fix the communication system, you need to add a subroutine to the device that detects a start-of-packet marker in the datastream. In the protocol being used by the Elves, the start of a packet is indicated by a sequence of four characters that are all different.\n",
    "\n",
    "The device will send your subroutine a datastream buffer (your puzzle input); your subroutine needs to identify the first position where the four most recently received characters were all different. Specifically, it needs to report the number of characters from the beginning of the buffer to the end of the first such four-character marker.\n",
    "\n",
    "For example, suppose you receive the following datastream buffer:\n",
    "\n",
    "`mjqjpqmgbljsphdztnvjfqwrcgsmlb`\n",
    "\n",
    "After the first three characters (mjq) have been received, there haven't been enough characters received yet to find the marker. The first time a marker could occur is after the fourth character is received, making the most recent four characters `mjqj`. Because `j` is repeated, this isn't a marker.\n",
    "\n",
    "The first time a marker appears is after the seventh character arrives. Once it does, the last four characters received are `jpqm`, which are all different. In this case, your subroutine should report the value 7, because the first start-of-packet marker is complete after 7 characters have been processed.\n",
    "\n",
    "Here are a few more examples:\n",
    "\n",
    "* `bvwbjplbgvbhsrlpgdmjqwftvncz`: first marker after character 5\n",
    "* `nppdvjthqldpwncqszvftbrmjlhg`: first marker after character 6\n",
    "* `nznrnfrfntjfmvfwmzdfjlvtqnbhcprsg`: first marker after character 10\n",
    "* `zcfzfwzzqfrljwzlrfnpqdbhtmscgvjw`: first marker after character 11\n",
    "How many characters need to be processed before the first start-of-packet marker is detected?\n",
    "\n"
   ]
  },
  {
   "cell_type": "code",
   "execution_count": 1,
   "id": "54028908-c4f2-4a7b-9251-58144e74f793",
   "metadata": {},
   "outputs": [],
   "source": [
    "with open(\"input.txt\",\"r\") as f:\n",
    "    d = f.read()"
   ]
  },
  {
   "cell_type": "code",
   "execution_count": 2,
   "id": "b006fde8-be1d-4e1c-bab5-22fdf293bdf3",
   "metadata": {},
   "outputs": [],
   "source": [
    "def find_duplicate(s):\n",
    "    i = 0\n",
    "    while i < len(s):\n",
    "        if s[i] in s[i+1:]:\n",
    "            return i\n",
    "        i = i + 1\n",
    "    return i"
   ]
  },
  {
   "cell_type": "code",
   "execution_count": 3,
   "id": "7a73018c-c683-44bf-9905-aa26eb0f438d",
   "metadata": {},
   "outputs": [],
   "source": [
    "def find_marker(d, length = 4):\n",
    "    left = 0\n",
    "    while left < len(d):\n",
    "        substring = d[left: left + length]\n",
    "        duplicate_index = find_duplicate(substring)\n",
    "        if duplicate_index == length:\n",
    "            return left + length\n",
    "        left = left + duplicate_index + 1"
   ]
  },
  {
   "cell_type": "code",
   "execution_count": 4,
   "id": "2da21684-3542-4eef-98fb-69a01b493722",
   "metadata": {},
   "outputs": [
    {
     "data": {
      "text/plain": [
       "1640"
      ]
     },
     "execution_count": 4,
     "metadata": {},
     "output_type": "execute_result"
    }
   ],
   "source": [
    "find_marker(d, 4)"
   ]
  },
  {
   "cell_type": "markdown",
   "id": "da041e58-ab32-4cff-baa9-2dc3980a96cc",
   "metadata": {},
   "source": [
    "--- Part Two ---\n",
    "\n",
    "Your device's communication system is correctly detecting packets, but still isn't working. It looks like it also needs to look for messages.\n",
    "\n",
    "A start-of-message marker is just like a start-of-packet marker, except it consists of 14 distinct characters rather than 4.\n",
    "\n",
    "Here are the first positions of start-of-message markers for all of the above examples:\n",
    "\n",
    "* `mjqjpqmgbljsphdztnvjfqwrcgsmlb`: first marker after character 19\n",
    "* `bvwbjplbgvbhsrlpgdmjqwftvncz`: first marker after character 23\n",
    "* `nppdvjthqldpwncqszvftbrmjlhg`: first marker after character 23\n",
    "* `nznrnfrfntjfmvfwmzdfjlvtqnbhcprsg`: first marker after character 29\n",
    "* `zcfzfwzzqfrljwzlrfnpqdbhtmscgvjw`: first marker after character 26\n",
    "How many characters need to be processed before the first start-of-message marker is detected?"
   ]
  },
  {
   "cell_type": "code",
   "execution_count": 5,
   "id": "38036004-f930-4490-a401-83d91248a068",
   "metadata": {},
   "outputs": [
    {
     "data": {
      "text/plain": [
       "3613"
      ]
     },
     "execution_count": 5,
     "metadata": {},
     "output_type": "execute_result"
    }
   ],
   "source": [
    "find_marker(d, 14)"
   ]
  },
  {
   "cell_type": "code",
   "execution_count": null,
   "id": "34385e83-e0e6-483c-8a56-9026187aef0d",
   "metadata": {},
   "outputs": [],
   "source": []
  }
 ],
 "metadata": {
  "kernelspec": {
   "display_name": "python_3.7",
   "language": "python",
   "name": "python_3.7"
  },
  "language_info": {
   "codemirror_mode": {
    "name": "ipython",
    "version": 3
   },
   "file_extension": ".py",
   "mimetype": "text/x-python",
   "name": "python",
   "nbconvert_exporter": "python",
   "pygments_lexer": "ipython3",
   "version": "3.7.10"
  }
 },
 "nbformat": 4,
 "nbformat_minor": 5
}
