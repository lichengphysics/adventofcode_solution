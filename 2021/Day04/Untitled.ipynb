{
 "cells": [
  {
   "cell_type": "code",
   "execution_count": 170,
   "id": "470f2a1a-5306-4b0f-b766-5b6c10e7000b",
   "metadata": {},
   "outputs": [],
   "source": [
    "with open(\"input.txt\",\"r\") as f:\n",
    "    d2 = [x.split(\"\\n\") for x in f.read().split(\"\\n\\n\")]"
   ]
  },
  {
   "cell_type": "code",
   "execution_count": 171,
   "id": "dc1db483-cc2d-4b69-a720-87bf40614819",
   "metadata": {},
   "outputs": [],
   "source": [
    "import numpy as np"
   ]
  },
  {
   "cell_type": "code",
   "execution_count": 172,
   "id": "60ef917b-ef03-4912-bfb8-2a7b0aa08838",
   "metadata": {},
   "outputs": [],
   "source": [
    "d2 = [[y.split(\" \") for y in x]  for x in d2]\n",
    "d2 = [[[ int(x3) for x3 in x2 if x3 != \"\"] for x2 in x1] for x1 in d2]"
   ]
  },
  {
   "cell_type": "code",
   "execution_count": 173,
   "id": "da5d5570-c86c-4eef-8ed1-69af728b7ca6",
   "metadata": {},
   "outputs": [],
   "source": [
    "d2 = np.array(d2)"
   ]
  },
  {
   "cell_type": "code",
   "execution_count": null,
   "id": "bdbdef1a-cbe4-4ef4-9dcb-a6a29b1c26bd",
   "metadata": {},
   "outputs": [],
   "source": []
  },
  {
   "cell_type": "code",
   "execution_count": null,
   "id": "3843af54-9f35-4b1b-8172-c9434b0508d2",
   "metadata": {},
   "outputs": [],
   "source": []
  },
  {
   "cell_type": "code",
   "execution_count": 174,
   "id": "b0b3ea4f-d16d-4e7e-9a08-51d72ff99eae",
   "metadata": {},
   "outputs": [],
   "source": [
    "d1 = '63,23,2,65,55,94,38,20,22,39,5,98,9,60,80,45,99,68,12,3,6,34,64,10,70,69,95,96,83,81,32,30,42,73,52,48,92,28,37,35,54,7,50,21,74,36,91,97,13,71,86,53,46,58,76,77,14,88,78,1,33,51,89,26,27,31,82,44,61,62,75,66,11,93,49,43,85,0,87,40,24,29,15,59,16,67,19,72,57,41,8,79,56,4,18,17,84,90,47,25'"
   ]
  },
  {
   "cell_type": "code",
   "execution_count": 175,
   "id": "09d12fa8-7088-4859-b4aa-daa46939a10d",
   "metadata": {},
   "outputs": [],
   "source": [
    "d1 = [int(x) for x in d1.split(\",\")]"
   ]
  },
  {
   "cell_type": "code",
   "execution_count": 154,
   "id": "4abcad32-0877-4687-aada-49922040247e",
   "metadata": {},
   "outputs": [],
   "source": [
    "def bingo(x):\n",
    "    if any(np.sum(x, axis = 1) == 5):\n",
    "        return True\n",
    "    if any(np.sum(x, axis = 0) == 5):\n",
    "        return True\n",
    "    return False"
   ]
  },
  {
   "cell_type": "code",
   "execution_count": 143,
   "id": "2e1e8e5e-1d9c-4ab6-975b-83e0fbfb6c94",
   "metadata": {},
   "outputs": [],
   "source": [
    "def find_bingo():\n",
    "    d_status = np.zeros_like(d2)\n",
    "    for n in d1:\n",
    "        d_status[d2 == n] = 1\n",
    "        for m, x in enumerate(d_status):\n",
    "            if bingo(x):\n",
    "                result = d2[m]\n",
    "                return result, x, n\n",
    "    return False"
   ]
  },
  {
   "cell_type": "code",
   "execution_count": 144,
   "id": "1a73601f-aa2f-48c3-9dbc-01fe7c5dec57",
   "metadata": {},
   "outputs": [],
   "source": [
    "r, x, n = find_bingo()"
   ]
  },
  {
   "cell_type": "code",
   "execution_count": 145,
   "id": "5d86d981-d933-4209-b270-0459851685b3",
   "metadata": {},
   "outputs": [
    {
     "data": {
      "text/plain": [
       "63424"
      ]
     },
     "execution_count": 145,
     "metadata": {},
     "output_type": "execute_result"
    }
   ],
   "source": [
    "np.sum(r[x==0]) * n"
   ]
  },
  {
   "cell_type": "code",
   "execution_count": 181,
   "id": "23853c2d-cf3c-418a-bc4d-5703e25ab93e",
   "metadata": {},
   "outputs": [],
   "source": [
    "def last_bingo(d1, d2):\n",
    "    d_status = np.zeros_like(d2)\n",
    "    for n in d1:\n",
    "        #print(n, len(d_status), len(d2))\n",
    "        d_status[d2 == n] = 1\n",
    "        i = 0\n",
    "        while i < len(d_status):\n",
    "            x = d_status[i]\n",
    "            if bingo(x):\n",
    "                result = d2[i], d_status[i], n\n",
    "                d_status = np.delete(d_status, i, 0)\n",
    "                d2 = np.delete(d2, i, 0)\n",
    "            else:\n",
    "                i = i + 1\n",
    "                \n",
    "       \n",
    "    return result"
   ]
  },
  {
   "cell_type": "code",
   "execution_count": 180,
   "id": "0bbec4c5-363a-41b9-8768-e482ec25468f",
   "metadata": {},
   "outputs": [
    {
     "data": {
      "text/plain": [
       "array([], shape=(0, 2, 3), dtype=int64)"
      ]
     },
     "execution_count": 180,
     "metadata": {},
     "output_type": "execute_result"
    }
   ],
   "source": [
    "np.delete([[[0,1,2],[2,3,4]]],0,0)"
   ]
  },
  {
   "cell_type": "code",
   "execution_count": 183,
   "id": "72840d23-69ef-4fb4-88a2-b73cbf72b522",
   "metadata": {},
   "outputs": [],
   "source": [
    "r, x, n =  last_bingo(d1, d2)"
   ]
  },
  {
   "cell_type": "code",
   "execution_count": 184,
   "id": "8d15f01b-dcb5-441d-81ca-450bc3350d5c",
   "metadata": {},
   "outputs": [
    {
     "data": {
      "text/plain": [
       "23541"
      ]
     },
     "execution_count": 184,
     "metadata": {},
     "output_type": "execute_result"
    }
   ],
   "source": [
    "np.sum(r[x==0]) * n"
   ]
  },
  {
   "cell_type": "raw",
   "id": "dc7f0351-3373-4891-bd73-5a8dc1eec0eb",
   "metadata": {},
   "source": [
    "def find_bingo():\n",
    "    d_status = np.zeros_like(d2)\n",
    "    for n in d1:\n",
    "        d_status[d2 == n] = 1\n",
    "        for m, x in enumerate(d_status):\n",
    "            if bingo(x):\n",
    "                result = d2[m]\n",
    "                return result, x, n\n",
    "    return False"
   ]
  }
 ],
 "metadata": {
  "kernelspec": {
   "display_name": "Python 3",
   "language": "python",
   "name": "python3"
  },
  "language_info": {
   "codemirror_mode": {
    "name": "ipython",
    "version": 3
   },
   "file_extension": ".py",
   "mimetype": "text/x-python",
   "name": "python",
   "nbconvert_exporter": "python",
   "pygments_lexer": "ipython3",
   "version": "3.7.10"
  }
 },
 "nbformat": 4,
 "nbformat_minor": 5
}
