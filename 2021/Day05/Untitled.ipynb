{
 "cells": [
  {
   "cell_type": "code",
   "execution_count": 7,
   "id": "b125425c-7259-43bf-98c7-f19e035e8839",
   "metadata": {},
   "outputs": [],
   "source": [
    "with open(\"input.txt\",\"r\") as f:\n",
    "    d = [[[int(xxx)for xxx in xx.split(\",\")] for xx in x.split(\" -> \")] for x in f.read().split(\"\\n\")]"
   ]
  },
  {
   "cell_type": "code",
   "execution_count": 14,
   "id": "38f4ccae-c22c-433a-ad25-7cd4be3c3273",
   "metadata": {},
   "outputs": [],
   "source": [
    "covered = {}\n",
    "for x in d:\n",
    "    p1, p2 = x\n",
    "    x1, y1 = p1\n",
    "    x2, y2 = p2\n",
    "    \n",
    "    if x1 != x2 and y1 != y1:\n",
    "        continue\n",
    "        \n",
    "    if x1 == x2:\n",
    "        for y in range(min(y1, y2), max(y1,y2)+1):\n",
    "            p = (x1, y)\n",
    "            if covered.get(p):\n",
    "                covered[p] = covered[p] + 1\n",
    "            else:\n",
    "                covered[p] = 1\n",
    "    \n",
    "    if y1 == y2:\n",
    "        for x in range(min(x1, x2), max(x1,x2)+1):\n",
    "            p = (x, y1)\n",
    "            if covered.get(p):\n",
    "                covered[p] = covered[p] + 1\n",
    "            else:\n",
    "                covered[p] = 1\n",
    "                \n",
    "        "
   ]
  },
  {
   "cell_type": "code",
   "execution_count": 16,
   "id": "8f436cce-4495-4ede-969b-914bd8a91524",
   "metadata": {},
   "outputs": [
    {
     "data": {
      "text/plain": [
       "5084"
      ]
     },
     "execution_count": 16,
     "metadata": {},
     "output_type": "execute_result"
    }
   ],
   "source": [
    "sum(v > 1 for v in covered.values())"
   ]
  },
  {
   "cell_type": "code",
   "execution_count": 17,
   "id": "72106818-5284-4d99-92b5-527973d29f95",
   "metadata": {},
   "outputs": [],
   "source": [
    "covered = {}\n",
    "for x in d:\n",
    "    p1, p2 = x\n",
    "    x1, y1 = p1\n",
    "    x2, y2 = p2\n",
    "           \n",
    "    if x1 == x2:\n",
    "        for y in range(min(y1, y2), max(y1,y2)+1):\n",
    "            p = (x1, y)\n",
    "            if covered.get(p):\n",
    "                covered[p] = covered[p] + 1\n",
    "            else:\n",
    "                covered[p] = 1\n",
    "    \n",
    "    if y1 == y2:\n",
    "        for x in range(min(x1, x2), max(x1,x2)+1):\n",
    "            p = (x, y1)\n",
    "            if covered.get(p):\n",
    "                covered[p] = covered[p] + 1\n",
    "            else:\n",
    "                covered[p] = 1\n",
    "                \n",
    "    \n",
    "    if x1 - x2 == y1 - y2:\n",
    "        x_min = min(x1, x2)\n",
    "        x_max = max(x1, x2)\n",
    "        \n",
    "        y_min = min(y1, y2)\n",
    "        y_max = max(y1, y2)\n",
    "        \n",
    "        for x, y in zip(range(x_min, x_max+ 1), range(y_min, y_max + 1)):\n",
    "            p = (x, y)\n",
    "            if covered.get(p):\n",
    "                covered[p] = covered[p] + 1\n",
    "            else:\n",
    "                covered[p] = 1\n",
    "     \n",
    "    if x1 - x2 == y2 - y1:\n",
    "        x_min = min(x1, x2)\n",
    "        x_max = max(x1, x2)\n",
    "        \n",
    "        y_min = min(y1, y2)\n",
    "        y_max = max(y1, y2)\n",
    "        \n",
    "        for x, y in zip(range(x_min, x_max+ 1), range(y_max, y_min-1, -1)):\n",
    "            p = (x, y)\n",
    "            if covered.get(p):\n",
    "                covered[p] = covered[p] + 1\n",
    "            else:\n",
    "                covered[p] = 1\n",
    "            "
   ]
  },
  {
   "cell_type": "code",
   "execution_count": 18,
   "id": "6db92f67-1f79-4d0f-99a4-255bcaea30de",
   "metadata": {},
   "outputs": [
    {
     "data": {
      "text/plain": [
       "17882"
      ]
     },
     "execution_count": 18,
     "metadata": {},
     "output_type": "execute_result"
    }
   ],
   "source": [
    "sum(v > 1 for v in covered.values())"
   ]
  },
  {
   "cell_type": "code",
   "execution_count": null,
   "id": "1d354684-8e8a-46ed-89c4-ebe9dab5e7b0",
   "metadata": {},
   "outputs": [],
   "source": []
  }
 ],
 "metadata": {
  "kernelspec": {
   "display_name": "Python 3",
   "language": "python",
   "name": "python3"
  },
  "language_info": {
   "codemirror_mode": {
    "name": "ipython",
    "version": 3
   },
   "file_extension": ".py",
   "mimetype": "text/x-python",
   "name": "python",
   "nbconvert_exporter": "python",
   "pygments_lexer": "ipython3",
   "version": "3.7.10"
  }
 },
 "nbformat": 4,
 "nbformat_minor": 5
}
