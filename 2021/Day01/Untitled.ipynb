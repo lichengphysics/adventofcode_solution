{
 "cells": [
  {
   "cell_type": "code",
   "execution_count": 19,
   "id": "20bf099e-5ec1-4213-a8d9-53b229d37b1f",
   "metadata": {},
   "outputs": [],
   "source": [
    "with open(\"input.txt\",\"r\") as f:\n",
    "    data = np.array([int(x) for x in f.read().split(\"\\n\")])"
   ]
  },
  {
   "cell_type": "code",
   "execution_count": 20,
   "id": "9a1f5151-33a6-493e-99c0-c5387365a139",
   "metadata": {},
   "outputs": [],
   "source": [
    "import numpy as np"
   ]
  },
  {
   "cell_type": "code",
   "execution_count": 21,
   "id": "95b3d5bc-552b-40ed-ac40-02d92d7d4cf1",
   "metadata": {},
   "outputs": [
    {
     "data": {
      "text/plain": [
       "1559"
      ]
     },
     "execution_count": 21,
     "metadata": {},
     "output_type": "execute_result"
    }
   ],
   "source": [
    "np.sum((data[:-1] - data[1:]) < 0)"
   ]
  },
  {
   "cell_type": "code",
   "execution_count": 23,
   "id": "f8caf43b-2147-4cd1-ae4f-e79fe601224f",
   "metadata": {},
   "outputs": [],
   "source": [
    "window_sum = data[:-2] + data[1:-1] + data[2:]"
   ]
  },
  {
   "cell_type": "code",
   "execution_count": 24,
   "id": "b5cdf1fc-6009-4eda-9ae6-35a7e7abf6cb",
   "metadata": {},
   "outputs": [
    {
     "data": {
      "text/plain": [
       "1600"
      ]
     },
     "execution_count": 24,
     "metadata": {},
     "output_type": "execute_result"
    }
   ],
   "source": [
    "np.sum((window_sum[:-1] - window_sum[1:]) < 0)"
   ]
  },
  {
   "cell_type": "code",
   "execution_count": null,
   "id": "8ef0f0bf-2bb8-471d-86be-2f0121abb031",
   "metadata": {},
   "outputs": [],
   "source": []
  }
 ],
 "metadata": {
  "kernelspec": {
   "display_name": "Python 3",
   "language": "python",
   "name": "python3"
  },
  "language_info": {
   "codemirror_mode": {
    "name": "ipython",
    "version": 3
   },
   "file_extension": ".py",
   "mimetype": "text/x-python",
   "name": "python",
   "nbconvert_exporter": "python",
   "pygments_lexer": "ipython3",
   "version": "3.7.10"
  }
 },
 "nbformat": 4,
 "nbformat_minor": 5
}
