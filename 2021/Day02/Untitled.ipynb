{
 "cells": [
  {
   "cell_type": "code",
   "execution_count": 1,
   "id": "14131fbc-1ed7-442e-8406-8c9ae60700b2",
   "metadata": {},
   "outputs": [],
   "source": [
    "with open(\"input.txt\",\"r\") as f:\n",
    "    data = [x.split(\" \") for x in f.read().split(\"\\n\")]"
   ]
  },
  {
   "cell_type": "code",
   "execution_count": 3,
   "id": "845e23ab-f6fc-43d9-b6a0-38b11780d0b4",
   "metadata": {},
   "outputs": [],
   "source": [
    "x, y = 0, 0\n",
    "for o in data:\n",
    "    if o[0] == \"forward\":\n",
    "        x = x + int(o[1])\n",
    "    if o[0] == \"down\":\n",
    "        y = y + int(o[1])\n",
    "    if o[0] == \"up\":\n",
    "        y = y - int(o[1])"
   ]
  },
  {
   "cell_type": "code",
   "execution_count": 5,
   "id": "91c79644-0cf1-4ef6-901a-6016d4fb0a2e",
   "metadata": {},
   "outputs": [
    {
     "data": {
      "text/plain": [
       "2019945"
      ]
     },
     "execution_count": 5,
     "metadata": {},
     "output_type": "execute_result"
    }
   ],
   "source": [
    "x * y"
   ]
  },
  {
   "cell_type": "code",
   "execution_count": 6,
   "id": "7fb0e450-94c6-4eb3-a74a-97f1e201196b",
   "metadata": {},
   "outputs": [],
   "source": [
    "x, y, aim = 0, 0, 0\n",
    "for o in data:\n",
    "    if o[0] == \"forward\":\n",
    "        x = x + int(o[1])\n",
    "        y = y + aim * int(o[1])\n",
    "    if o[0] == \"down\":\n",
    "        aim = aim + int(o[1])\n",
    "    if o[0] == \"up\":\n",
    "        aim = aim - int(o[1])"
   ]
  },
  {
   "cell_type": "code",
   "execution_count": 7,
   "id": "ef830bd3-4699-44c0-9f09-2e2de2b50a65",
   "metadata": {},
   "outputs": [
    {
     "data": {
      "text/plain": [
       "1599311480"
      ]
     },
     "execution_count": 7,
     "metadata": {},
     "output_type": "execute_result"
    }
   ],
   "source": [
    "x * y"
   ]
  },
  {
   "cell_type": "code",
   "execution_count": null,
   "id": "e6803590-ff40-4195-8b2e-429a5a890192",
   "metadata": {},
   "outputs": [],
   "source": []
  }
 ],
 "metadata": {
  "kernelspec": {
   "display_name": "Python 3",
   "language": "python",
   "name": "python3"
  },
  "language_info": {
   "codemirror_mode": {
    "name": "ipython",
    "version": 3
   },
   "file_extension": ".py",
   "mimetype": "text/x-python",
   "name": "python",
   "nbconvert_exporter": "python",
   "pygments_lexer": "ipython3",
   "version": "3.7.10"
  }
 },
 "nbformat": 4,
 "nbformat_minor": 5
}
