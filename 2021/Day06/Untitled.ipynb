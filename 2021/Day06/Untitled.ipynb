{
 "cells": [
  {
   "cell_type": "code",
   "execution_count": 41,
   "id": "0b79ac43-9a2b-4d51-9164-8b9c11427023",
   "metadata": {},
   "outputs": [],
   "source": [
    "import numpy as np\n",
    "from collections import Counter \n",
    "\n",
    "data = np.loadtxt('input.txt', delimiter=',', dtype=int)\n",
    "dictionary = Counter(data)\n",
    "\n",
    "for i in range(9):\n",
    "    if i not in dictionary.keys():\n",
    "        dictionary[i] = 0\n",
    "        \n",
    "d = sorted(dictionary.items())"
   ]
  },
  {
   "cell_type": "code",
   "execution_count": 42,
   "id": "87a1dc01-6dfb-41af-89a7-519553cd2883",
   "metadata": {},
   "outputs": [
    {
     "data": {
      "text/plain": [
       "Counter({3: 36, 5: 39, 1: 130, 2: 44, 4: 51, 0: 0, 6: 0, 7: 0, 8: 0})"
      ]
     },
     "execution_count": 42,
     "metadata": {},
     "output_type": "execute_result"
    }
   ],
   "source": [
    "dictionary"
   ]
  },
  {
   "cell_type": "code",
   "execution_count": 43,
   "id": "7b0e3543-663f-46a9-9e50-86b141393db5",
   "metadata": {},
   "outputs": [],
   "source": [
    "num = np.array([i[1] for i in d])\n",
    "for i in range(80):\n",
    "    num_parent = num[0]\n",
    "    num = np.append(num[1:], num_parent)\n",
    "    num[6] += num_parent\n",
    "    "
   ]
  },
  {
   "cell_type": "code",
   "execution_count": 44,
   "id": "c3a9693b-08b5-4b9d-bb24-a2d2d6e92abb",
   "metadata": {},
   "outputs": [
    {
     "data": {
      "text/plain": [
       "365862"
      ]
     },
     "execution_count": 44,
     "metadata": {},
     "output_type": "execute_result"
    }
   ],
   "source": [
    "sum(num)"
   ]
  },
  {
   "cell_type": "code",
   "execution_count": 45,
   "id": "34757d29-65f1-42cb-9d75-3b7c607d607a",
   "metadata": {},
   "outputs": [],
   "source": [
    "num = np.array([i[1] for i in d])\n",
    "for i in range(256):\n",
    "    num_parent = num[0]\n",
    "    num = np.append(num[1:], num_parent)\n",
    "    num[6] += num_parent\n",
    "    "
   ]
  },
  {
   "cell_type": "code",
   "execution_count": 46,
   "id": "44077c15-547c-44a6-8f7d-e29a2118d689",
   "metadata": {},
   "outputs": [
    {
     "data": {
      "text/plain": [
       "1653250886439"
      ]
     },
     "execution_count": 46,
     "metadata": {},
     "output_type": "execute_result"
    }
   ],
   "source": [
    "sum(num)"
   ]
  },
  {
   "cell_type": "code",
   "execution_count": null,
   "id": "0b2cc70e-1953-436d-9316-4fb8c3d22bf1",
   "metadata": {},
   "outputs": [],
   "source": []
  }
 ],
 "metadata": {
  "kernelspec": {
   "display_name": "Python 3",
   "language": "python",
   "name": "python3"
  },
  "language_info": {
   "codemirror_mode": {
    "name": "ipython",
    "version": 3
   },
   "file_extension": ".py",
   "mimetype": "text/x-python",
   "name": "python",
   "nbconvert_exporter": "python",
   "pygments_lexer": "ipython3",
   "version": "3.7.10"
  }
 },
 "nbformat": 4,
 "nbformat_minor": 5
}
