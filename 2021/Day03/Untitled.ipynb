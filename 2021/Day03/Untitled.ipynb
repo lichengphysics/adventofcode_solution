{
 "cells": [
  {
   "cell_type": "code",
   "execution_count": 48,
   "id": "915fed9b-635e-4c69-94d8-c6d17d29eed5",
   "metadata": {},
   "outputs": [],
   "source": [
    "with open(\"input.txt\",\"r\") as f:\n",
    "    d =  f.read().split(\"\\n\")"
   ]
  },
  {
   "cell_type": "code",
   "execution_count": 49,
   "id": "083a459b-2101-4106-a1ce-6c9fd0f635fc",
   "metadata": {},
   "outputs": [],
   "source": [
    "def to_int_list(s):\n",
    "    return [int(x) for x in s]"
   ]
  },
  {
   "cell_type": "code",
   "execution_count": 50,
   "id": "d14e6284-8030-4600-be29-10b0d07c7877",
   "metadata": {},
   "outputs": [],
   "source": [
    "def list_to_int(x):\n",
    "    result = 0\n",
    "    for n in x:\n",
    "        result = (result * 2) + n\n",
    "    return result"
   ]
  },
  {
   "cell_type": "code",
   "execution_count": 51,
   "id": "dd1382c4-9d2f-4597-a67a-dfaed6d3158b",
   "metadata": {},
   "outputs": [],
   "source": [
    "data = [to_int_list(s) for s in d]"
   ]
  },
  {
   "cell_type": "code",
   "execution_count": 52,
   "id": "631d1c74-eb89-475b-bad9-f652990bb65f",
   "metadata": {},
   "outputs": [],
   "source": [
    "import numpy as np"
   ]
  },
  {
   "cell_type": "code",
   "execution_count": 23,
   "id": "40176151-c684-40c5-a219-31850b2902c2",
   "metadata": {},
   "outputs": [
    {
     "data": {
      "text/plain": [
       "array([0.499, 0.489, 0.498, 0.49 , 0.502, 0.484, 0.515, 0.508, 0.502,\n",
       "       0.518, 0.517, 0.487])"
      ]
     },
     "execution_count": 23,
     "metadata": {},
     "output_type": "execute_result"
    }
   ],
   "source": [
    "np.sum(data, axis = 0)/len(data)"
   ]
  },
  {
   "cell_type": "code",
   "execution_count": 16,
   "id": "1216c134-f10d-489c-bbaf-622baa7fe7b5",
   "metadata": {},
   "outputs": [
    {
     "data": {
      "text/plain": [
       "array([0, 0, 0, 0, 1, 0, 1, 1, 1, 1, 1, 0])"
      ]
     },
     "execution_count": 16,
     "metadata": {},
     "output_type": "execute_result"
    }
   ],
   "source": [
    "(np.sum(data, axis = 0)/len(data) > 0.5).astype(int)"
   ]
  },
  {
   "cell_type": "code",
   "execution_count": 33,
   "id": "704dcbcf-24ca-4021-b1bd-885f6ad5e1a0",
   "metadata": {},
   "outputs": [
    {
     "data": {
      "text/plain": [
       "190"
      ]
     },
     "execution_count": 33,
     "metadata": {},
     "output_type": "execute_result"
    }
   ],
   "source": [
    "list_to_int((np.sum(data, axis = 0)/len(data) > 0.5).astype(int))"
   ]
  },
  {
   "cell_type": "code",
   "execution_count": 34,
   "id": "b0c80c56-7f9e-4844-988a-c36c21ccf2a0",
   "metadata": {},
   "outputs": [
    {
     "data": {
      "text/plain": [
       "3905"
      ]
     },
     "execution_count": 34,
     "metadata": {},
     "output_type": "execute_result"
    }
   ],
   "source": [
    "list_to_int(1-(np.sum(data, axis = 0)/len(data) > 0.5).astype(int))"
   ]
  },
  {
   "cell_type": "code",
   "execution_count": 35,
   "id": "e7261d48-c17b-4907-bac7-33e734c23654",
   "metadata": {},
   "outputs": [
    {
     "data": {
      "text/plain": [
       "741950"
      ]
     },
     "execution_count": 35,
     "metadata": {},
     "output_type": "execute_result"
    }
   ],
   "source": [
    "190 * 3905"
   ]
  },
  {
   "cell_type": "code",
   "execution_count": 67,
   "id": "7fb53406-fdc5-4a4a-b907-d99e5f5b5f9e",
   "metadata": {},
   "outputs": [],
   "source": [
    "o2re = data\n",
    "#co2re = data\n",
    "for i in range(len(data[0])):\n",
    "    if len(o2re) == 1:\n",
    "        break\n",
    "        \n",
    "    o2 = int(sum(x[i] for x in o2re) / len(o2re) >= 0.5)\n",
    "    #co2 = int(sum(x[i] for x in o2re) / o2re < 0.5)\n",
    "    o2re = [x for x in o2re if x[i] == o2]"
   ]
  },
  {
   "cell_type": "code",
   "execution_count": 68,
   "id": "2f1b2bb9-8ded-49e9-a8be-ef8e2a4b3366",
   "metadata": {},
   "outputs": [
    {
     "data": {
      "text/plain": [
       "[[0, 0, 0, 1, 0, 0, 0, 1, 1, 0, 1, 0]]"
      ]
     },
     "execution_count": 68,
     "metadata": {},
     "output_type": "execute_result"
    }
   ],
   "source": [
    "o2re"
   ]
  },
  {
   "cell_type": "code",
   "execution_count": 69,
   "id": "c728e029-57ec-4406-a849-323a817f1890",
   "metadata": {},
   "outputs": [],
   "source": [
    "\n",
    "co2re = data\n",
    "for i in range(len(data[0])):\n",
    "    if len(co2re) == 1:\n",
    "        break\n",
    "        \n",
    "    \n",
    "    co2 = int(sum(x[i] for x in co2re) / len(co2re) < 0.5)\n",
    "    co2re = [x for x in co2re if x[i] == co2]"
   ]
  },
  {
   "cell_type": "code",
   "execution_count": 70,
   "id": "c59bd6b9-9a93-42c2-9e69-d1e5a676d0cf",
   "metadata": {},
   "outputs": [
    {
     "data": {
      "text/plain": [
       "[[1, 1, 0, 0, 1, 0, 0, 0, 0, 1, 0, 1]]"
      ]
     },
     "execution_count": 70,
     "metadata": {},
     "output_type": "execute_result"
    }
   ],
   "source": [
    "co2re"
   ]
  },
  {
   "cell_type": "code",
   "execution_count": 71,
   "id": "5187aee9-f4c5-400a-ba35-babacb553b0d",
   "metadata": {},
   "outputs": [
    {
     "data": {
      "text/plain": [
       "282"
      ]
     },
     "execution_count": 71,
     "metadata": {},
     "output_type": "execute_result"
    }
   ],
   "source": [
    "list_to_int(o2re[0])"
   ]
  },
  {
   "cell_type": "code",
   "execution_count": 72,
   "id": "ca59e70a-98f7-4310-a6c5-64324a23bfdf",
   "metadata": {},
   "outputs": [
    {
     "data": {
      "text/plain": [
       "3205"
      ]
     },
     "execution_count": 72,
     "metadata": {},
     "output_type": "execute_result"
    }
   ],
   "source": [
    "list_to_int(co2re[0])"
   ]
  },
  {
   "cell_type": "code",
   "execution_count": 73,
   "id": "500c6e36-8d26-4b6b-aca4-84b4130b092c",
   "metadata": {},
   "outputs": [
    {
     "data": {
      "text/plain": [
       "903810"
      ]
     },
     "execution_count": 73,
     "metadata": {},
     "output_type": "execute_result"
    }
   ],
   "source": [
    "3205 * 282"
   ]
  },
  {
   "cell_type": "code",
   "execution_count": null,
   "id": "900c03e4-4408-4fbd-9da7-14695ac8d094",
   "metadata": {},
   "outputs": [],
   "source": []
  }
 ],
 "metadata": {
  "kernelspec": {
   "display_name": "Python 3",
   "language": "python",
   "name": "python3"
  },
  "language_info": {
   "codemirror_mode": {
    "name": "ipython",
    "version": 3
   },
   "file_extension": ".py",
   "mimetype": "text/x-python",
   "name": "python",
   "nbconvert_exporter": "python",
   "pygments_lexer": "ipython3",
   "version": "3.7.10"
  }
 },
 "nbformat": 4,
 "nbformat_minor": 5
}
