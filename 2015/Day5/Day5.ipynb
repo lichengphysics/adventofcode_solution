{
 "cells": [
  {
   "cell_type": "markdown",
   "metadata": {},
   "source": [
    "--- Day 5: Doesn't He Have Intern-Elves For This? ---\n",
    "Santa needs help figuring out which strings in his text file are naughty or nice.\n",
    "\n",
    "A nice string is one with all of the following properties:\n",
    "\n",
    "It contains at least three vowels (aeiou only), like aei, xazegov, or aeiouaeiouaeiou.\n",
    "It contains at least one letter that appears twice in a row, like xx, abcdde (dd), or aabbccdd (aa, bb, cc, or dd).\n",
    "It does not contain the strings ab, cd, pq, or xy, even if they are part of one of the other requirements.\n",
    "For example:\n",
    "\n",
    "ugknbfddgicrmopn is nice because it has at least three vowels (u...i...o...), a double letter (...dd...), and none of the disallowed substrings.\n",
    "aaa is nice because it has at least three vowels and a double letter, even though the letters used by different rules overlap.\n",
    "jchzalrnumimnmhp is naughty because it has no double letter.\n",
    "haegwjzuvuyypxyu is naughty because it contains the string xy.\n",
    "dvszwmarrgswjxmb is naughty because it contains only one vowel.\n",
    "How many strings are nice?"
   ]
  },
  {
   "cell_type": "code",
   "execution_count": 1,
   "metadata": {},
   "outputs": [],
   "source": [
    "with open(\"input.txt\",\"r\") as f:\n",
    "    input_data = f.read().split(\"\\n\")"
   ]
  },
  {
   "cell_type": "code",
   "execution_count": 2,
   "metadata": {},
   "outputs": [],
   "source": [
    "def nice_str(string):\n",
    "    vowels = \"aeiou\"\n",
    "    vowel_appear = 0    \n",
    "    twice_in_a_row = False\n",
    "    \n",
    "    for i, x in enumerate(string):\n",
    "        if (x in \"acpx\") and i < len(string)-1:\n",
    "            if ord(string[i+1]) == ord(x) + 1:\n",
    "                return False\n",
    "            \n",
    "        vowel_appear = vowel_appear + int(x in vowels)\n",
    "        \n",
    "        if (not twice_in_a_row) and i < len(string)-1:\n",
    "            if string[i+1] == x:\n",
    "                twice_in_a_row = True\n",
    "    return twice_in_a_row and (vowel_appear >= 3)\n",
    "        \n",
    "            "
   ]
  },
  {
   "cell_type": "code",
   "execution_count": 3,
   "metadata": {},
   "outputs": [],
   "source": [
    "def count_nice(input_data):\n",
    "    return sum([nice_str(string) for string in input_data])"
   ]
  },
  {
   "cell_type": "code",
   "execution_count": 4,
   "metadata": {},
   "outputs": [
    {
     "data": {
      "text/plain": [
       "236"
      ]
     },
     "execution_count": 4,
     "metadata": {},
     "output_type": "execute_result"
    }
   ],
   "source": [
    "count_nice(input_data)"
   ]
  },
  {
   "cell_type": "markdown",
   "metadata": {},
   "source": [
    "--- Part Two ---\n",
    "Realizing the error of his ways, Santa has switched to a better model of determining whether a string is naughty or nice. None of the old rules apply, as they are all clearly ridiculous.\n",
    "\n",
    "Now, a nice string is one with all of the following properties:\n",
    "\n",
    "It contains a pair of any two letters that appears at least twice in the string without overlapping, like xyxy (xy) or aabcdefgaa (aa), but not like aaa (aa, but it overlaps).\n",
    "It contains at least one letter which repeats with exactly one letter between them, like xyx, abcdefeghi (efe), or even aaa.\n",
    "For example:\n",
    "\n",
    "qjhvhtzxzqqjkmpb is nice because is has a pair that appears twice (qj) and a letter that repeats with exactly one letter between them (zxz).\n",
    "xxyxx is nice because it has a pair that appears twice and a letter that repeats with one between, even though the letters used by each rule overlap.\n",
    "uurcxstgmygtbstg is naughty because it has a pair (tg) but no repeat with a single letter between them.\n",
    "ieodomkazucvgmuy is naughty because it has a repeating letter with one between (odo), but no pair that appears twice.\n",
    "How many strings are nice under these new rules?\n",
    "\n"
   ]
  },
  {
   "cell_type": "code",
   "execution_count": 5,
   "metadata": {},
   "outputs": [],
   "source": [
    "def nice_str2(string):\n",
    "    def property_2(string):\n",
    "        for i in range(len(string)-2):\n",
    "            if string[i] == string[i+2]:\n",
    "                return True\n",
    "        return False\n",
    "    \n",
    "    def property_1(string):\n",
    "        pair_dict = {}\n",
    "        for i in range(len(string)-1):\n",
    "            pair = string[i:i+2]\n",
    "            if pair not in pair_dict:\n",
    "                pair_dict[pair] = []\n",
    "            pair_dict[pair] = pair_dict[pair] + [i]\n",
    "            if max(pair_dict[pair])-min(pair_dict[pair])>1:\n",
    "                return True\n",
    "        return False\n",
    "    \n",
    "    return property_1(string) and property_2(string)"
   ]
  },
  {
   "cell_type": "code",
   "execution_count": 6,
   "metadata": {},
   "outputs": [],
   "source": [
    "def nice_str2(string):\n",
    "    flag1 = False\n",
    "    flag2 = False\n",
    "    pair_dict = {}\n",
    "    for i in range(len(string)-1):\n",
    "        if not flag1:\n",
    "            pair = string[i:i+2]\n",
    "            if pair not in pair_dict:\n",
    "                pair_dict[pair] = []\n",
    "            pair_dict[pair] = pair_dict[pair] + [i]\n",
    "            if max(pair_dict[pair])-min(pair_dict[pair])>1:\n",
    "                flag1 = True\n",
    "        if not flag2 and i < len(string)-2:\n",
    "            if string[i] == string[i+2]:\n",
    "                flag2 = True\n",
    "    return flag1 and flag2"
   ]
  },
  {
   "cell_type": "code",
   "execution_count": 7,
   "metadata": {},
   "outputs": [],
   "source": [
    "def count_nice2(input_data):\n",
    "    return sum([nice_str2(string) for string in input_data])"
   ]
  },
  {
   "cell_type": "code",
   "execution_count": 8,
   "metadata": {},
   "outputs": [
    {
     "data": {
      "text/plain": [
       "51"
      ]
     },
     "execution_count": 8,
     "metadata": {},
     "output_type": "execute_result"
    }
   ],
   "source": [
    "count_nice2(input_data)"
   ]
  }
 ],
 "metadata": {
  "kernelspec": {
   "display_name": "Python 3",
   "language": "python",
   "name": "python3"
  },
  "language_info": {
   "codemirror_mode": {
    "name": "ipython",
    "version": 3
   },
   "file_extension": ".py",
   "mimetype": "text/x-python",
   "name": "python",
   "nbconvert_exporter": "python",
   "pygments_lexer": "ipython3",
   "version": "3.7.3"
  }
 },
 "nbformat": 4,
 "nbformat_minor": 4
}
