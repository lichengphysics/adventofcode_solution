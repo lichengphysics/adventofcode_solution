{
 "cells": [
  {
   "cell_type": "markdown",
   "metadata": {},
   "source": [
    "--- Day 9: All in a Single Night ---\n",
    "Every year, Santa manages to deliver all of his presents in a single night.\n",
    "\n",
    "This year, however, he has some new locations to visit; his elves have provided him the distances between every pair of locations. He can start and end at any two (different) locations he wants, but he must visit each location exactly once. What is the shortest distance he can travel to achieve this?\n",
    "\n",
    "For example, given the following distances:\n",
    "\n",
    "London to Dublin = 464\n",
    "London to Belfast = 518\n",
    "Dublin to Belfast = 141\n",
    "The possible routes are therefore:\n",
    "\n",
    "Dublin -> London -> Belfast = 982\n",
    "London -> Dublin -> Belfast = 605\n",
    "London -> Belfast -> Dublin = 659\n",
    "Dublin -> Belfast -> London = 659\n",
    "Belfast -> Dublin -> London = 605\n",
    "Belfast -> London -> Dublin = 982\n",
    "The shortest of these is London -> Dublin -> Belfast = 605, and so the answer is 605 in this example.\n",
    "\n",
    "What is the distance of the shortest route?\n",
    "\n"
   ]
  },
  {
   "cell_type": "code",
   "execution_count": null,
   "metadata": {},
   "outputs": [],
   "source": [
    "with open(\"input.txt\",\"r\") as f:\n",
    "    input_data = f.read().split(\"\\n\")"
   ]
  },
  {
   "cell_type": "code",
   "execution_count": null,
   "metadata": {},
   "outputs": [],
   "source": [
    "def data_clean(input_data):\n",
    "    distance_dict = dict()\n",
    "    location_set = set()\n",
    "    for x in input_data:\n",
    "        path, distance = x.split(\" = \")\n",
    "        location1, location2 = path.split(\" to \")\n",
    "        if location1 not in distance_dict:\n",
    "            distance_dict[location1] = dict()\n",
    "        distance_dict[location1][location2] = int(distance)\n",
    "        location_set = location_set.union({location1, location2})\n",
    "    location_list = sorted(list(location_set))\n",
    "    location_map = {x[0]:x[1] for x in zip(location_list, range(len(location_list)))}\n",
    "    distance_table = [[0]*len(location_list) for _ in range(len(location_list))]\n",
    "    for loc1 in distance_dict:\n",
    "        loc1_index = location_map[loc1]\n",
    "        for loc2 in distance_dict[loc1]:\n",
    "            loc2_index = location_map[loc2]\n",
    "            distance_table[loc1_index][loc2_index] =distance_dict[loc1][loc2]\n",
    "            distance_table[loc2_index][loc1_index] =distance_dict[loc1][loc2]\n",
    "    return distance_table"
   ]
  },
  {
   "cell_type": "code",
   "execution_count": 3,
   "metadata": {},
   "outputs": [],
   "source": [
    "from itertools import permutations"
   ]
  },
  {
   "cell_type": "code",
   "execution_count": 4,
   "metadata": {},
   "outputs": [],
   "source": [
    "def min_distance(input_data):\n",
    "    distance_table = data_clean(input_data)\n",
    "    \n",
    "    def distance(distance_table, perm):\n",
    "        return sum([distance_table[perm[i]][perm[i+1]] for i in range(len(perm) - 1)])\n",
    "            \n",
    "    \n",
    "    return min([distance(distance_table, perm) for perm in permutations(range(len(distance_table)))])\n",
    "        "
   ]
  },
  {
   "cell_type": "code",
   "execution_count": 5,
   "metadata": {},
   "outputs": [
    {
     "data": {
      "text/plain": [
       "141"
      ]
     },
     "execution_count": 5,
     "metadata": {},
     "output_type": "execute_result"
    }
   ],
   "source": [
    "min_distance(input_data)"
   ]
  },
  {
   "cell_type": "markdown",
   "metadata": {},
   "source": [
    "--- Part Two ---\n",
    "The next year, just to show off, Santa decides to take the route with the longest distance instead.\n",
    "\n",
    "He can still start and end at any two (different) locations he wants, and he still must visit each location exactly once.\n",
    "\n",
    "For example, given the distances above, the longest route would be 982 via (for example) Dublin -> London -> Belfast.\n",
    "\n",
    "What is the distance of the longest route?"
   ]
  },
  {
   "cell_type": "code",
   "execution_count": 6,
   "metadata": {},
   "outputs": [],
   "source": [
    "def max_distance(input_data):\n",
    "    distance_table = data_clean(input_data)\n",
    "    \n",
    "    def distance(distance_table, perm):\n",
    "        return sum([distance_table[perm[i]][perm[i+1]] for i in range(len(perm) - 1)])\n",
    "            \n",
    "    \n",
    "    return max([distance(distance_table, perm) for perm in permutations(range(len(distance_table)))])\n",
    "        "
   ]
  },
  {
   "cell_type": "code",
   "execution_count": 7,
   "metadata": {},
   "outputs": [
    {
     "data": {
      "text/plain": [
       "736"
      ]
     },
     "execution_count": 7,
     "metadata": {},
     "output_type": "execute_result"
    }
   ],
   "source": [
    "max_distance(input_data)"
   ]
  }
 ],
 "metadata": {
  "kernelspec": {
   "display_name": "Python 3",
   "language": "python",
   "name": "python3"
  },
  "language_info": {
   "codemirror_mode": {
    "name": "ipython",
    "version": 3
   },
   "file_extension": ".py",
   "mimetype": "text/x-python",
   "name": "python",
   "nbconvert_exporter": "python",
   "pygments_lexer": "ipython3",
   "version": "3.7.3"
  }
 },
 "nbformat": 4,
 "nbformat_minor": 4
}
