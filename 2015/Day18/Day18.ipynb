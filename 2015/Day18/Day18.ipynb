{
 "cells": [
  {
   "cell_type": "markdown",
   "metadata": {},
   "source": [
    "# Day 18: Like a GIF For Your Yard \n",
    "After the million lights incident, the fire code has gotten stricter: now, at most ten thousand lights are allowed. You arrange them in a 100x100 grid.\n",
    "\n",
    "Never one to let you down, Santa again mails you instructions on the ideal lighting configuration. With so few lights, he says, you'll have to resort to animation.\n",
    "\n",
    "Start by setting your lights to the included initial configuration (your puzzle input). A `#` means \"on\", and a `.` means \"off\".\n",
    "\n",
    "Then, animate your grid in steps, where each step decides the next configuration based on the current one. Each light's next state (either on or off) depends on its current state and the current states of the eight lights adjacent to it (including diagonals). Lights on the edge of the grid might have fewer than eight neighbors; the missing ones always count as \"off\".\n",
    "\n",
    "For example, in a simplified 6x6 grid, the light marked A has the neighbors numbered 1 through 8, and the light marked B, which is on an edge, only has the neighbors marked 1 through 5:\n",
    "```\n",
    "1B5...\n",
    "234...\n",
    "......\n",
    "..123.\n",
    "..8A4.\n",
    "..765.\n",
    "```\n",
    "The state a light should have next is based on its current state (on or off) plus the number of neighbors that are on:\n",
    "\n",
    "A light which is on stays on when 2 or 3 neighbors are on, and turns off otherwise.\n",
    "A light which is off turns on if exactly 3 neighbors are on, and stays off otherwise.\n",
    "All of the lights update simultaneously; they all consider the same current state before moving to the next.\n",
    "\n",
    "Here's a few steps from an example configuration of another 6x6 grid:\n",
    "\n",
    "Initial state:\n",
    "```\n",
    ".#.#.#\n",
    "...##.\n",
    "#....#\n",
    "..#...\n",
    "#.#..#\n",
    "####..\n",
    "```\n",
    "After 1 step:\n",
    "```\n",
    "..##..\n",
    "..##.#\n",
    "...##.\n",
    "......\n",
    "#.....\n",
    "#.##..\n",
    "```\n",
    "After 2 steps:\n",
    "```\n",
    "..###.\n",
    "......\n",
    "..###.\n",
    "......\n",
    ".#....\n",
    ".#....\n",
    "```\n",
    "After 3 steps:\n",
    "```\n",
    "...#..\n",
    "......\n",
    "...#..\n",
    "..##..\n",
    "......\n",
    "......\n",
    "```\n",
    "After 4 steps:\n",
    "```\n",
    "......\n",
    "......\n",
    "..##..\n",
    "..##..\n",
    "......\n",
    "......\n",
    "```\n",
    "After 4 steps, this example has four lights on.\n",
    "\n",
    "In your grid of 100x100 lights, given your initial configuration, how many lights are on after 100 steps?"
   ]
  },
  {
   "cell_type": "code",
   "execution_count": 1,
   "metadata": {},
   "outputs": [],
   "source": [
    "with open(\"input.txt\",\"r\") as f:\n",
    "    input_data = [[1 if xx == \"#\" else 0 for xx in x] for x in f.read().split(\"\\n\")]"
   ]
  },
  {
   "cell_type": "code",
   "execution_count": 2,
   "metadata": {},
   "outputs": [],
   "source": [
    "def update_xy(input_data, x, y):\n",
    "    neighbor = [(y-1, x-1), (y-1, x), (y-1, x+1),\n",
    "                (y, x-1), (y, x + 1),\n",
    "               (y+1, x-1), (y+1, x), (y+1, x+1)]\n",
    "    neighbor_select = [yx for yx in neighbor if 0<=yx[0]<len(input_data) and 0<=yx[1] < len(input_data[0])]\n",
    "    \n",
    "    neighbor_status = sum([input_data[yx[0]][yx[1]] for yx in neighbor_select])\n",
    "    \n",
    "    if input_data[y][x] == 1:\n",
    "        if neighbor_status in [2,3]:\n",
    "            return 1\n",
    "        else:\n",
    "            return 0\n",
    "    else:\n",
    "        if neighbor_status==3:\n",
    "            return 1\n",
    "        else:\n",
    "            return 0"
   ]
  },
  {
   "cell_type": "code",
   "execution_count": 3,
   "metadata": {},
   "outputs": [],
   "source": [
    "def update(input_data):\n",
    "    update_result = [[0]*len(input_data[0]) for _ in range(len(input_data))] \n",
    "    for y in range(len(input_data)):\n",
    "        for x in range(len(input_data[0])):\n",
    "            update_result[y][x] = update_xy(input_data, x, y)\n",
    "    return update_result"
   ]
  },
  {
   "cell_type": "code",
   "execution_count": 4,
   "metadata": {},
   "outputs": [],
   "source": [
    "def update_n(input_data, step_n = 100):\n",
    "    result = input_data\n",
    "    for _ in range(step_n):\n",
    "        result = update(result)\n",
    "        \n",
    "    return result"
   ]
  },
  {
   "cell_type": "code",
   "execution_count": 5,
   "metadata": {},
   "outputs": [],
   "source": [
    "def light_on_n(input_data, step_n = 100):\n",
    "    status = update_n(input_data, step_n)\n",
    "    return sum([sum(s)for s in status])"
   ]
  },
  {
   "cell_type": "code",
   "execution_count": 6,
   "metadata": {},
   "outputs": [
    {
     "data": {
      "text/plain": [
       "1061"
      ]
     },
     "execution_count": 6,
     "metadata": {},
     "output_type": "execute_result"
    }
   ],
   "source": [
    "light_on_n(input_data, step_n = 100)"
   ]
  },
  {
   "cell_type": "markdown",
   "metadata": {},
   "source": [
    "# Part Two \n",
    "You flip the instructions over; Santa goes on to point out that this is all just an implementation of Conway's Game of Life. At least, it was, until you notice that something's wrong with the grid of lights you bought: four lights, one in each corner, are stuck on and can't be turned off. The example above will actually run like this:\n",
    "\n",
    "Initial state:\n",
    "```\n",
    "##.#.#\n",
    "...##.\n",
    "#....#\n",
    "..#...\n",
    "#.#..#\n",
    "####.#\n",
    "```\n",
    "After 1 step:\n",
    "```\n",
    "#.##.#\n",
    "####.#\n",
    "...##.\n",
    "......\n",
    "#...#.\n",
    "#.####\n",
    "```\n",
    "After 2 steps:\n",
    "```\n",
    "#..#.#\n",
    "#....#\n",
    ".#.##.\n",
    "...##.\n",
    ".#..##\n",
    "##.###\n",
    "```\n",
    "After 3 steps:\n",
    "```\n",
    "#...##\n",
    "####.#\n",
    "..##.#\n",
    "......\n",
    "##....\n",
    "####.#\n",
    "```\n",
    "After 4 steps:\n",
    "```\n",
    "#.####\n",
    "#....#\n",
    "...#..\n",
    ".##...\n",
    "#.....\n",
    "#.#..#\n",
    "```\n",
    "After 5 steps:\n",
    "```\n",
    "##.###\n",
    ".##..#\n",
    ".##...\n",
    ".##...\n",
    "#.#...\n",
    "##...#\n",
    "```\n",
    "After 5 steps, this example now has 17 lights on.\n",
    "\n",
    "In your grid of 100x100 lights, given your initial configuration, but with the four corners always in the on state, how many lights are on after 100 steps?\n",
    "\n"
   ]
  },
  {
   "cell_type": "code",
   "execution_count": 7,
   "metadata": {},
   "outputs": [],
   "source": [
    "def update_2(input_data):\n",
    "    update_result = [[0]*len(input_data[0]) for _ in range(len(input_data))] \n",
    "    for y in range(len(input_data)):\n",
    "        for x in range(len(input_data[0])):\n",
    "            update_result[y][x] = update_xy(input_data, x, y)\n",
    "    update_result[0][0] = 1\n",
    "    update_result[0][-1] = 1\n",
    "    update_result[-1][0] = 1\n",
    "    update_result[-1][-1] = 1\n",
    "    \n",
    "    return update_result"
   ]
  },
  {
   "cell_type": "code",
   "execution_count": 8,
   "metadata": {},
   "outputs": [],
   "source": [
    "def update_n_2(input_data, step_n = 100):\n",
    "    result = input_data\n",
    "    result[0][0] = 1\n",
    "    result[0][-1] = 1\n",
    "    result[-1][0] = 1\n",
    "    result[-1][-1] = 1\n",
    "    for _ in range(step_n):\n",
    "        result = update_2(result)\n",
    "        \n",
    "    return result"
   ]
  },
  {
   "cell_type": "code",
   "execution_count": 9,
   "metadata": {},
   "outputs": [],
   "source": [
    "def light_on_n_2(input_data, step_n = 100):\n",
    "    status = update_n_2(input_data, step_n)\n",
    "    return sum([sum(s)for s in status])"
   ]
  },
  {
   "cell_type": "code",
   "execution_count": 10,
   "metadata": {},
   "outputs": [
    {
     "data": {
      "text/plain": [
       "1006"
      ]
     },
     "execution_count": 10,
     "metadata": {},
     "output_type": "execute_result"
    }
   ],
   "source": [
    "light_on_n_2(input_data, step_n = 100)"
   ]
  },
  {
   "cell_type": "code",
   "execution_count": null,
   "metadata": {},
   "outputs": [],
   "source": []
  }
 ],
 "metadata": {
  "kernelspec": {
   "display_name": "Python 3",
   "language": "python",
   "name": "python3"
  },
  "language_info": {
   "codemirror_mode": {
    "name": "ipython",
    "version": 3
   },
   "file_extension": ".py",
   "mimetype": "text/x-python",
   "name": "python",
   "nbconvert_exporter": "python",
   "pygments_lexer": "ipython3",
   "version": "3.7.3"
  }
 },
 "nbformat": 4,
 "nbformat_minor": 4
}
