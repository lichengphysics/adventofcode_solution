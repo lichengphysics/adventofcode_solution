{
 "cells": [
  {
   "cell_type": "markdown",
   "metadata": {},
   "source": [
    "--- Day 1: Not Quite Lisp ---\n",
    "Santa was hoping for a white Christmas, but his weather machine's \"snow\" function is powered by stars, and he's fresh out! To save Christmas, he needs you to collect fifty stars by December 25th.\n",
    "\n",
    "Collect stars by helping Santa solve puzzles. Two puzzles will be made available on each day in the Advent calendar; the second puzzle is unlocked when you complete the first. Each puzzle grants one star. Good luck!\n",
    "\n",
    "Here's an easy puzzle to warm you up.\n",
    "\n",
    "Santa is trying to deliver presents in a large apartment building, but he can't find the right floor - the directions he got are a little confusing. He starts on the ground floor (floor 0) and then follows the instructions one character at a time.\n",
    "\n",
    "An opening parenthesis, (, means he should go up one floor, and a closing parenthesis, ), means he should go down one floor.\n",
    "\n",
    "The apartment building is very tall, and the basement is very deep; he will never find the top or bottom floors.\n",
    "\n",
    "For example:\n",
    "\n",
    "(()) and ()() both result in floor 0.\n",
    "((( and (()(()( both result in floor 3.\n",
    "))((((( also results in floor 3.\n",
    "()) and ))( both result in floor -1 (the first basement level).\n",
    "))) and )())()) both result in floor -3.\n",
    "To what floor do the instructions take Santa?\n",
    "\n"
   ]
  },
  {
   "cell_type": "code",
   "execution_count": 1,
   "metadata": {},
   "outputs": [],
   "source": [
    "with open(\"input.txt\",\"r\") as f:\n",
    "    input_data = f.read()"
   ]
  },
  {
   "cell_type": "code",
   "execution_count": 2,
   "metadata": {},
   "outputs": [],
   "source": [
    "def sum_bracket(input_data):\n",
    "    result = 0\n",
    "    for x in input_data:\n",
    "        result = result + (1 if x == \"(\" else -1)\n",
    "    return result"
   ]
  },
  {
   "cell_type": "code",
   "execution_count": 3,
   "metadata": {},
   "outputs": [
    {
     "data": {
      "text/plain": [
       "232"
      ]
     },
     "execution_count": 3,
     "metadata": {},
     "output_type": "execute_result"
    }
   ],
   "source": [
    "sum_bracket(input_data)"
   ]
  },
  {
   "cell_type": "markdown",
   "metadata": {},
   "source": [
    "--- Part Two ---\n",
    "Now, given the same instructions, find the position of the first character that causes him to enter the basement (floor -1). The first character in the instructions has position 1, the second character has position 2, and so on.\n",
    "\n",
    "For example:\n",
    "\n",
    ") causes him to enter the basement at character position 1.\n",
    "()()) causes him to enter the basement at character position 5.\n",
    "What is the position of the character that causes Santa to first enter the basement?"
   ]
  },
  {
   "cell_type": "code",
   "execution_count": 4,
   "metadata": {},
   "outputs": [],
   "source": [
    "def first_n1(input_data):\n",
    "    result = 0\n",
    "    for i, x in enumerate(input_data):\n",
    "        result = result + (1 if x == \"(\" else -1)\n",
    "        if result == -1:\n",
    "            return i+1"
   ]
  },
  {
   "cell_type": "code",
   "execution_count": 5,
   "metadata": {},
   "outputs": [
    {
     "data": {
      "text/plain": [
       "1783"
      ]
     },
     "execution_count": 5,
     "metadata": {},
     "output_type": "execute_result"
    }
   ],
   "source": [
    "first_n1(input_data)"
   ]
  },
  {
   "cell_type": "code",
   "execution_count": null,
   "metadata": {},
   "outputs": [],
   "source": []
  }
 ],
 "metadata": {
  "kernelspec": {
   "display_name": "Python 3",
   "language": "python",
   "name": "python3"
  },
  "language_info": {
   "codemirror_mode": {
    "name": "ipython",
    "version": 3
   },
   "file_extension": ".py",
   "mimetype": "text/x-python",
   "name": "python",
   "nbconvert_exporter": "python",
   "pygments_lexer": "ipython3",
   "version": "3.7.3"
  }
 },
 "nbformat": 4,
 "nbformat_minor": 4
}
