{
 "cells": [
  {
   "cell_type": "markdown",
   "metadata": {},
   "source": [
    "# Day 10: Elves Look, Elves Say \n",
    "Today, the Elves are playing a game called look-and-say. They take turns making sequences by reading aloud the previous sequence and using that reading as the next sequence. For example, `211` is read as \"one two, two ones\", which becomes `1221` (1 `2`, 2 `1`s).\n",
    "\n",
    "Look-and-say sequences are generated iteratively, using the previous value as input for the next step. For each step, take the previous value, and replace each run of digits (like 111) with the number of digits (3) followed by the digit itself (1).\n",
    "\n",
    "For example:\n",
    "\n",
    "* 1 becomes 11 (1 copy of digit 1).\n",
    "* 11 becomes 21 (2 copies of digit 1).\n",
    "* 21 becomes 1211 (one 2 followed by one 1).\n",
    "* 1211 becomes 111221 (one 1, one 2, and two 1s).\n",
    "* 111221 becomes 312211 (three 1s, two 2s, and one 1).\n",
    "Starting with the digits in your puzzle input, apply this process 40 times. What is the length of the result?"
   ]
  },
  {
   "cell_type": "code",
   "execution_count": 45,
   "metadata": {},
   "outputs": [],
   "source": [
    "def next_integer(x_str):\n",
    "    i = 0\n",
    "    result = \"\"\n",
    "    while i < len(x_str):\n",
    "        l = x_str[i]\n",
    "        j = i\n",
    "        while (j < len(x_str)) and (x_str[j] == l):\n",
    "            j = j + 1\n",
    "        c = j - i\n",
    "        result = result + str(c) + l\n",
    "        i = j\n",
    "    return result\n",
    "    "
   ]
  },
  {
   "cell_type": "code",
   "execution_count": 60,
   "metadata": {},
   "outputs": [],
   "source": [
    "def result(inital, rounds):\n",
    "    result = inital\n",
    "    for i in range(rounds):\n",
    "        result = next_integer(result)\n",
    "    return result"
   ]
  },
  {
   "cell_type": "code",
   "execution_count": 63,
   "metadata": {},
   "outputs": [
    {
     "name": "stderr",
     "output_type": "stream",
     "text": [
      "100%|██████████| 40/40 [00:06<00:00,  6.66it/s] \n"
     ]
    },
    {
     "data": {
      "text/plain": [
       "492982"
      ]
     },
     "execution_count": 63,
     "metadata": {},
     "output_type": "execute_result"
    }
   ],
   "source": [
    "len(result(\"1321131112\", 40))"
   ]
  },
  {
   "cell_type": "markdown",
   "metadata": {},
   "source": [
    "--- Part Two ---\n",
    "\n",
    "Neat, right? You might also enjoy hearing John Conway talking about this sequence (that's Conway of Conway's Game of Life fame).\n",
    "\n",
    "Now, starting again with the digits in your puzzle input, apply this process 50 times. What is the length of the new result?"
   ]
  },
  {
   "cell_type": "code",
   "execution_count": 67,
   "metadata": {},
   "outputs": [],
   "source": [
    "import re"
   ]
  },
  {
   "cell_type": "code",
   "execution_count": 68,
   "metadata": {},
   "outputs": [],
   "source": [
    "def result_2(inital, rounds):\n",
    "    re_d = re.compile(r'((\\d)\\2*)')\n",
    "\n",
    "    def replace(match_obj):\n",
    "        s = match_obj.group(1)\n",
    "        return str(len(s)) + s[0]\n",
    "    \n",
    "    result = inital\n",
    "    for i in tqdm(range(rounds)):\n",
    "        result = re_d.sub(replace,result)\n",
    "    return result"
   ]
  },
  {
   "cell_type": "code",
   "execution_count": 70,
   "metadata": {},
   "outputs": [
    {
     "name": "stderr",
     "output_type": "stream",
     "text": [
      "100%|██████████| 50/50 [00:11<00:00,  4.21it/s] \n"
     ]
    },
    {
     "data": {
      "text/plain": [
       "6989950"
      ]
     },
     "execution_count": 70,
     "metadata": {},
     "output_type": "execute_result"
    }
   ],
   "source": [
    "len(result_2(\"1321131112\", 50))"
   ]
  },
  {
   "cell_type": "code",
   "execution_count": null,
   "metadata": {},
   "outputs": [],
   "source": []
  }
 ],
 "metadata": {
  "kernelspec": {
   "display_name": "Python 3",
   "language": "python",
   "name": "python3"
  },
  "language_info": {
   "codemirror_mode": {
    "name": "ipython",
    "version": 3
   },
   "file_extension": ".py",
   "mimetype": "text/x-python",
   "name": "python",
   "nbconvert_exporter": "python",
   "pygments_lexer": "ipython3",
   "version": "3.7.3"
  }
 },
 "nbformat": 4,
 "nbformat_minor": 4
}
