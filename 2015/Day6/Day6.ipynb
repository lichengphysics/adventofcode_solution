{
 "cells": [
  {
   "cell_type": "markdown",
   "metadata": {},
   "source": [
    "--- Day 6: Probably a Fire Hazard ---\n",
    "Because your neighbors keep defeating you in the holiday house decorating contest year after year, you've decided to deploy one million lights in a 1000x1000 grid.\n",
    "\n",
    "Furthermore, because you've been especially nice this year, Santa has mailed you instructions on how to display the ideal lighting configuration.\n",
    "\n",
    "Lights in your grid are numbered from 0 to 999 in each direction; the lights at each corner are at 0,0, 0,999, 999,999, and 999,0. The instructions include whether to turn on, turn off, or toggle various inclusive ranges given as coordinate pairs. Each coordinate pair represents opposite corners of a rectangle, inclusive; a coordinate pair like 0,0 through 2,2 therefore refers to 9 lights in a 3x3 square. The lights all start turned off.\n",
    "\n",
    "To defeat your neighbors this year, all you have to do is set up your lights by doing the instructions Santa sent you in order.\n",
    "\n",
    "For example:\n",
    "\n",
    "turn on 0,0 through 999,999 would turn on (or leave on) every light.\n",
    "toggle 0,0 through 999,0 would toggle the first line of 1000 lights, turning off the ones that were on, and turning on the ones that were off.\n",
    "turn off 499,499 through 500,500 would turn off (or leave off) the middle four lights.\n",
    "After following the instructions, how many lights are lit?"
   ]
  },
  {
   "cell_type": "code",
   "execution_count": 15,
   "metadata": {},
   "outputs": [],
   "source": [
    "with open(\"input.txt\",\"r\") as f:\n",
    "    input_data = f.read().split(\"\\n\")"
   ]
  },
  {
   "cell_type": "code",
   "execution_count": 85,
   "metadata": {},
   "outputs": [],
   "source": [
    "class lights():\n",
    "    def __init__(self):\n",
    "        self.states = np.full((1000,1000),0)\n",
    "    def on(self, start, end):\n",
    "        self.states[start[0]: end[0]+1, start[1]:end[1]+1] = 1\n",
    "    def off(self, start, end):\n",
    "        self.states[start[0]:end[0]+1,  start[1]:end[1]+1] = 0\n",
    "    def toggle(self, start, end):\n",
    "        self.states[start[0]:end[0]+1,  start[1]:end[1]+1] = 1- self.states[start[0]:end[0]+1, start[1]:end[1]+1]\n",
    "    def operate(self, command):\n",
    "        if command[:4] == \"turn\":\n",
    "            if command[5:7] == \"on\":\n",
    "                func = self.on\n",
    "                left = command[8:]\n",
    "            else:\n",
    "                func = self.off\n",
    "                left = command[9:]\n",
    "        else:\n",
    "            func = self.toggle\n",
    "            left = command[7:]\n",
    "            \n",
    "        start_string, end_string = left.split(\" through \")\n",
    "        start_split = start_string.split(\",\")\n",
    "        end_split = end_string.split(\",\")\n",
    "        \n",
    "        func((int(start_split[0]),int(start_split[1])),(int(end_split[0]),int(end_split[1])))"
   ]
  },
  {
   "cell_type": "code",
   "execution_count": 86,
   "metadata": {},
   "outputs": [],
   "source": [
    "def light_on(input_data):\n",
    "    light_state = lights()\n",
    "    for x in input_data:\n",
    "        light_state.operate(x)\n",
    "    return np.sum(light_state.states)"
   ]
  },
  {
   "cell_type": "code",
   "execution_count": 87,
   "metadata": {},
   "outputs": [
    {
     "data": {
      "text/plain": [
       "400410"
      ]
     },
     "execution_count": 87,
     "metadata": {},
     "output_type": "execute_result"
    }
   ],
   "source": [
    "light_on(input_data)"
   ]
  },
  {
   "cell_type": "markdown",
   "metadata": {},
   "source": [
    "--- Part Two ---\n",
    "You just finish implementing your winning light pattern when you realize you mistranslated Santa's message from Ancient Nordic Elvish.\n",
    "\n",
    "The light grid you bought actually has individual brightness controls; each light can have a brightness of zero or more. The lights all start at zero.\n",
    "\n",
    "The phrase turn on actually means that you should increase the brightness of those lights by 1.\n",
    "\n",
    "The phrase turn off actually means that you should decrease the brightness of those lights by 1, to a minimum of zero.\n",
    "\n",
    "The phrase toggle actually means that you should increase the brightness of those lights by 2.\n",
    "\n",
    "What is the total brightness of all lights combined after following Santa's instructions?\n",
    "\n",
    "For example:\n",
    "\n",
    "turn on 0,0 through 0,0 would increase the total brightness by 1.\n",
    "toggle 0,0 through 999,999 would increase the total brightness by 2000000."
   ]
  },
  {
   "cell_type": "code",
   "execution_count": null,
   "metadata": {},
   "outputs": [],
   "source": [
    "class lights_2():\n",
    "    def __init__(self):\n",
    "        self.states = np.full((1000,1000),0)\n",
    "    def on_2(self, start, end):\n",
    "        self.states[start[0]: end[0]+1, start[1]:end[1]+1] = self.states[start[0]: end[0]+1, start[1]:end[1]+1] + 1\n",
    "    def off_2(self, start, end):\n",
    "        self.states[start[0]:end[0]+1,  start[1]:end[1]+1] = self.states[start[0]:end[0]+1,  start[1]:end[1]+1] - 1\n",
    "        for i in range(start[0],end[0]+1):\n",
    "            for j in range(start[1],end[1]+1):\n",
    "                self.states[i,j] = max(self.states[i,j], 0)\n",
    "        \n",
    "    def toggle_2(self, start, end):\n",
    "        self.states[start[0]:end[0]+1,  start[1]:end[1]+1] = self.states[start[0]:end[0]+1, start[1]:end[1]+1] + 2\n",
    "    def operate(self, command):\n",
    "        if command[:4] == \"turn\":\n",
    "            if command[5:7] == \"on\":\n",
    "                func = self.on\n",
    "                left = command[8:]\n",
    "            else:\n",
    "                func = self.off\n",
    "                left = command[9:]\n",
    "        else:\n",
    "            func = self.toggle\n",
    "            left = command[7:]\n",
    "            \n",
    "        start_string, end_string = left.split(\" through \")\n",
    "        start_split = start_string.split(\",\")\n",
    "        end_split = end_string.split(\",\")\n",
    "        \n",
    "        func((int(start_split[0]),int(start_split[1])),(int(end_split[0]),int(end_split[1])))"
   ]
  }
 ],
 "metadata": {
  "kernelspec": {
   "display_name": "Python 3",
   "language": "python",
   "name": "python3"
  },
  "language_info": {
   "codemirror_mode": {
    "name": "ipython",
    "version": 3
   },
   "file_extension": ".py",
   "mimetype": "text/x-python",
   "name": "python",
   "nbconvert_exporter": "python",
   "pygments_lexer": "ipython3",
   "version": "3.7.3"
  }
 },
 "nbformat": 4,
 "nbformat_minor": 4
}
