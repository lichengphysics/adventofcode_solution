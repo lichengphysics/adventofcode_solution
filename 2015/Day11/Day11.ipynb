{
 "cells": [
  {
   "cell_type": "markdown",
   "metadata": {},
   "source": [
    "# Day 11: Corporate Policy\n",
    "Santa's previous password expired, and he needs help choosing a new one.\n",
    "\n",
    "To help him remember his new password after the old one expires, Santa has devised a method of coming up with a password based on the previous one. Corporate policy dictates that passwords must be exactly eight lowercase letters (for security reasons), so he finds his new password by incrementing his old password string repeatedly until it is valid.\n",
    "\n",
    "Incrementing is just like counting with numbers: `xx`, `xy`, `xz`, `ya`, `yb`, and so on. Increase the rightmost letter one step; if it was `z`, it wraps around to `a`, and repeat with the next letter to the left until one doesn't wrap around.\n",
    "\n",
    "Unfortunately for Santa, a new Security-Elf recently started, and he has imposed some additional password requirements:\n",
    "\n",
    "* Passwords must include one increasing straight of at least three letters, like `abc`, `bcd`, `cde`, and so on, up to `xyz`. They cannot skip letters; `abd` doesn't count.\n",
    "* Passwords may not contain the letters `i`, `o`, or `l`, as these letters can be mistaken for other characters and are therefore confusing.\n",
    "* Passwords must contain at least two different, non-overlapping pairs of letters, like `aa`, `bb`, or `zz`.\n",
    "\n",
    "For example:\n",
    "\n",
    "* `hijklmmn` meets the first requirement (because it contains the straight `hij`) but fails the second requirement requirement (because it contains `i` and `l`).\n",
    "* `abbceffg` meets the third requirement (because it repeats `bb` and `ff`) but fails the first requirement.\n",
    "* `abbcegjk` fails the third requirement, because it only has one double letter (`bb`).\n",
    "\n",
    "The next password after `abcdefgh` is `abcdffaa`.\n",
    "\n",
    "The next password after `ghijklmn` is `ghjaabcc`, because you eventually skip all the passwords that start with `ghi...`, since `i` is not allowed.\n",
    "Given Santa's current password (your puzzle input), what should his next password be?\n",
    "\n"
   ]
  },
  {
   "cell_type": "code",
   "execution_count": 1,
   "metadata": {},
   "outputs": [],
   "source": [
    "input_data = \"vzbxkghb\""
   ]
  },
  {
   "cell_type": "code",
   "execution_count": 2,
   "metadata": {},
   "outputs": [],
   "source": [
    "def letter2int(letter_list):\n",
    "    return [ord(x) - ord(\"a\")for x in letter_list]\n",
    "\n",
    "def int2letter(int_list):\n",
    "    result = \"\"\n",
    "    for x in [chr(ord(\"a\") + x) for x in int_list]:\n",
    "        result = result + x\n",
    "    return result"
   ]
  },
  {
   "cell_type": "code",
   "execution_count": 3,
   "metadata": {},
   "outputs": [],
   "source": [
    "def next_int_list(int_list):\n",
    "    c = 1\n",
    "    result = []\n",
    "    for x in range(-1, -len(int_list)-1, -1):\n",
    "        n = int_list[x] + c\n",
    "        if n >= 26:\n",
    "            c = 1\n",
    "            n = n - 26\n",
    "        else: \n",
    "            c = 0\n",
    "        result = [n] + result\n",
    "    return result"
   ]
  },
  {
   "cell_type": "code",
   "execution_count": 4,
   "metadata": {},
   "outputs": [],
   "source": [
    "def valid_list(int_list):\n",
    "    if any((x in int_list) for x in [8,11,14]):\n",
    "        return False\n",
    "    \n",
    "    flag_1 = False\n",
    "\n",
    "    i = 0\n",
    "    while (i <= len(int_list)-3) and (not flag_1):\n",
    "        if (int_list[i] + 1 == int_list[i+1]) and (int_list[i] + 2 == int_list[i+2]):\n",
    "            flag_1 = True\n",
    "        i = i + 1\n",
    "        \n",
    "    if not flag_1:\n",
    "        return False\n",
    "        \n",
    "        \n",
    "    flag_2 = 0\n",
    "    i = 0\n",
    "    while (i <= len(int_list)-2) and (flag_2 < 2):\n",
    "        if int_list[i] == int_list[i+1]:\n",
    "            flag_2 = flag_2 + 1\n",
    "            i = i + 1\n",
    "        i = i + 1\n",
    "        \n",
    "    if flag_2 <2:\n",
    "        return False\n",
    "    \n",
    "    return True"
   ]
  },
  {
   "cell_type": "code",
   "execution_count": 5,
   "metadata": {},
   "outputs": [],
   "source": [
    "def next_valid_list(int_list):\n",
    "    result = int_list.copy()\n",
    "    flag = False\n",
    "    while not flag:\n",
    "        result = next_int_list(result)\n",
    "        flag = valid_list(result)\n",
    "    return result"
   ]
  },
  {
   "cell_type": "code",
   "execution_count": 6,
   "metadata": {},
   "outputs": [],
   "source": [
    "def next_valid_pwd(input_data):\n",
    "    return int2letter(next_valid_list(letter2int(input_data)))"
   ]
  },
  {
   "cell_type": "code",
   "execution_count": 7,
   "metadata": {},
   "outputs": [
    {
     "data": {
      "text/plain": [
       "'vzbxxyzz'"
      ]
     },
     "execution_count": 7,
     "metadata": {},
     "output_type": "execute_result"
    }
   ],
   "source": [
    "next_valid_pwd(input_data)"
   ]
  },
  {
   "cell_type": "markdown",
   "metadata": {},
   "source": [
    "# Part Two \n",
    "Santa's password expired again. What's the next one?"
   ]
  },
  {
   "cell_type": "code",
   "execution_count": 8,
   "metadata": {},
   "outputs": [
    {
     "data": {
      "text/plain": [
       "'vzcaabcc'"
      ]
     },
     "execution_count": 8,
     "metadata": {},
     "output_type": "execute_result"
    }
   ],
   "source": [
    "next_valid_pwd(next_valid_pwd(input_data))"
   ]
  }
 ],
 "metadata": {
  "kernelspec": {
   "display_name": "Python 3",
   "language": "python",
   "name": "python3"
  },
  "language_info": {
   "codemirror_mode": {
    "name": "ipython",
    "version": 3
   },
   "file_extension": ".py",
   "mimetype": "text/x-python",
   "name": "python",
   "nbconvert_exporter": "python",
   "pygments_lexer": "ipython3",
   "version": "3.7.3"
  }
 },
 "nbformat": 4,
 "nbformat_minor": 4
}
