{
 "cells": [
  {
   "cell_type": "markdown",
   "metadata": {},
   "source": [
    "# Day 19: Medicine for Rudolph \n",
    "Rudolph the Red-Nosed Reindeer is sick! His nose isn't shining very brightly, and he needs medicine.\n",
    "\n",
    "Red-Nosed Reindeer biology isn't similar to regular reindeer biology; Rudolph is going to need custom-made medicine. Unfortunately, Red-Nosed Reindeer chemistry isn't similar to regular reindeer chemistry, either.\n",
    "\n",
    "The North Pole is equipped with a Red-Nosed Reindeer nuclear fusion/fission plant, capable of constructing any Red-Nosed Reindeer molecule you need. It works by starting with some input molecule and then doing a series of replacements, one per step, until it has the right molecule.\n",
    "\n",
    "However, the machine has to be calibrated before it can be used. Calibration involves determining the number of molecules that can be generated in one step from a given starting point.\n",
    "\n",
    "For example, imagine a simpler machine that supports only the following replacements:\n",
    "```\n",
    "H => HO\n",
    "H => OH\n",
    "O => HH\n",
    "```\n",
    "Given the replacements above and starting with HOH, the following molecules could be generated:\n",
    "```\n",
    "HOOH (via H => HO on the first H).\n",
    "HOHO (via H => HO on the second H).\n",
    "OHOH (via H => OH on the first H).\n",
    "HOOH (via H => OH on the second H).\n",
    "HHHH (via O => HH).\n",
    "```\n",
    "So, in the example above, there are 4 distinct molecules (not five, because HOOH appears twice) after one replacement from HOH. Santa's favorite molecule, HOHOHO, can become 7 distinct molecules (over nine replacements: six from H, and three from O).\n",
    "\n",
    "The machine replaces without regard for the surrounding characters. For example, given the string H2O, the transition H => OO would result in OO2O.\n",
    "\n",
    "Your puzzle input describes all of the possible replacements and, at the bottom, the medicine molecule for which you need to calibrate the machine. How many distinct molecules can be created after all the different ways you can do one replacement on the medicine molecule?"
   ]
  },
  {
   "cell_type": "code",
   "execution_count": 1,
   "metadata": {},
   "outputs": [],
   "source": [
    "with open(\"input.txt\",\"r\") as f:\n",
    "    input_data = f.read().split(\"\\n\")"
   ]
  },
  {
   "cell_type": "code",
   "execution_count": 2,
   "metadata": {},
   "outputs": [],
   "source": [
    "def sequence2list(sequence):\n",
    "    i = 0\n",
    "    result = []\n",
    "    while i < len(sequence):\n",
    "        letter = sequence[i]\n",
    "        if (i+1 < len(sequence)):\n",
    "            letter_next = sequence[i+1]\n",
    "            if ord(\"A\") <= ord(letter_next) <= ord(\"Z\"):\n",
    "                result = result + [letter]\n",
    "                i = i +1\n",
    "            else:\n",
    "                result = result + [letter + letter_next]\n",
    "                i = i + 2\n",
    "        else:\n",
    "            result = result + [letter]\n",
    "            i = i + 1\n",
    "    return result"
   ]
  },
  {
   "cell_type": "code",
   "execution_count": 3,
   "metadata": {},
   "outputs": [],
   "source": [
    "def list2sequence(slist):\n",
    "    result = \"\"\n",
    "    for x in slist:\n",
    "        result = result + x\n",
    "    return result"
   ]
  },
  {
   "cell_type": "code",
   "execution_count": 4,
   "metadata": {},
   "outputs": [],
   "source": [
    "def apply_rule(slist, rule):\n",
    "    old = rule[0]\n",
    "    new = rule[1]\n",
    "    \n",
    "    result = []\n",
    "    for i, x in enumerate(slist):\n",
    "        if x == old:\n",
    "            s_new = slist.copy()\n",
    "            s_new[i] = new\n",
    "            result.append(s_new)\n",
    "    return set([list2sequence(r) for r in result])"
   ]
  },
  {
   "cell_type": "code",
   "execution_count": 5,
   "metadata": {},
   "outputs": [],
   "source": [
    "def apply_multi_rules(slist, rules):\n",
    "    result = set()\n",
    "    for rule in rules:\n",
    "        result_r = apply_rule(slist, rule)\n",
    "        result = result.union(result_r)\n",
    "        \n",
    "    return result"
   ]
  },
  {
   "cell_type": "code",
   "execution_count": 6,
   "metadata": {},
   "outputs": [],
   "source": [
    "def number_medicine(input_data):\n",
    "    initial_raw = input_data[-1]\n",
    "    initial_list = sequence2list(initial_raw)\n",
    "    transition_raw = input_data[:-2]\n",
    "    transition_rules = [x.split(\" => \") for x in transition_raw]\n",
    "    return len(apply_multi_rules(initial_list, transition_rules))"
   ]
  },
  {
   "cell_type": "code",
   "execution_count": 7,
   "metadata": {},
   "outputs": [
    {
     "data": {
      "text/plain": [
       "518"
      ]
     },
     "execution_count": 7,
     "metadata": {},
     "output_type": "execute_result"
    }
   ],
   "source": [
    "number_medicine(input_data)"
   ]
  },
  {
   "cell_type": "markdown",
   "metadata": {},
   "source": [
    "# Part Two \n",
    "Now that the machine is calibrated, you're ready to begin molecule fabrication.\n",
    "\n",
    "Molecule fabrication always begins with just a single electron, e, and applying replacements one at a time, just like the ones during calibration.\n",
    "\n",
    "For example, suppose you have the following replacements:\n",
    "```\n",
    "e => H\n",
    "e => O\n",
    "H => HO\n",
    "H => OH\n",
    "O => HH\n",
    "```\n",
    "If you'd like to make `HOH`, you start with `e`, and then make the following replacements:\n",
    "```\n",
    "e => O to get O\n",
    "O => HH to get HH\n",
    "H => OH (on the second H) to get HOH\n",
    "```\n",
    "So, you could make `HOH` after 3 steps. Santa's favorite molecule, `HOHOHO`, can be made in 6 steps.\n",
    "\n",
    "How long will it take to make the medicine? Given the available replacements and the medicine molecule in your puzzle input, what is the fewest number of steps to go from e to the medicine molecule?"
   ]
  },
  {
   "cell_type": "code",
   "execution_count": null,
   "metadata": {},
   "outputs": [],
   "source": []
  }
 ],
 "metadata": {
  "kernelspec": {
   "display_name": "Python 3",
   "language": "python",
   "name": "python3"
  },
  "language_info": {
   "codemirror_mode": {
    "name": "ipython",
    "version": 3
   },
   "file_extension": ".py",
   "mimetype": "text/x-python",
   "name": "python",
   "nbconvert_exporter": "python",
   "pygments_lexer": "ipython3",
   "version": "3.7.3"
  }
 },
 "nbformat": 4,
 "nbformat_minor": 4
}
