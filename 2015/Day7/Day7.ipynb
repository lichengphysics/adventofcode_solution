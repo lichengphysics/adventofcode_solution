{
 "cells": [
  {
   "cell_type": "markdown",
   "metadata": {},
   "source": [
    "# Day 7: Some Assembly Required \n",
    "This year, Santa brought little Bobby Tables a set of wires and bitwise logic gates! Unfortunately, little Bobby is a little under the recommended age range, and he needs help assembling the circuit.\n",
    "\n",
    "Each wire has an identifier (some lowercase letters) and can carry a 16-bit signal (a number from 0 to 65535). A signal is provided to each wire by a gate, another wire, or some specific value. Each wire can only get a signal from one source, but can provide its signal to multiple destinations. A gate provides no signal until all of its inputs have a signal.\n",
    "\n",
    "The included instructions booklet describes how to connect the parts together: `x AND y -> z` means to connect wires x and y to an AND gate, and then connect its output to wire z.\n",
    "\n",
    "For example:\n",
    "\n",
    "`123 -> x` means that the signal 123 is provided to wire x.\n",
    "`x AND y -> z` means that the bitwise AND of wire x and wire y is provided to wire z.\n",
    "\n",
    "`p LSHIFT 2 -> q` means that the value from wire p is left-shifted by 2 and then provided to wire q.\n",
    "\n",
    "`NOT e -> f` means that the bitwise complement of the value from wire e is provided to wire f.\n",
    "\n",
    "Other possible gates include `OR` (bitwise OR) and `RSHIFT` (right-shift). If, for some reason, you'd like to emulate the circuit instead, almost all programming languages (for example, C, JavaScript, or Python) provide operators for these gates.\n",
    "\n",
    "For example, here is a simple circuit:\n",
    "\n",
    "```\n",
    "123 -> x\n",
    "456 -> y\n",
    "x AND y -> d\n",
    "x OR y -> e\n",
    "x LSHIFT 2 -> f\n",
    "y RSHIFT 2 -> g\n",
    "NOT x -> h\n",
    "NOT y -> i\n",
    "```\n",
    "After it is run, these are the signals on the wires:\n",
    "\n",
    "```\n",
    "d: 72\n",
    "e: 507\n",
    "f: 492\n",
    "g: 114\n",
    "h: 65412\n",
    "i: 65079\n",
    "x: 123\n",
    "y: 456\n",
    "```\n",
    "In little Bobby's kit's instructions booklet (provided as your puzzle input), what signal is ultimately provided to wire a?"
   ]
  },
  {
   "cell_type": "code",
   "execution_count": null,
   "metadata": {},
   "outputs": [],
   "source": [
    "with open(\"input.txt\",\"r\") as f:\n",
    "    input_data = f.read().split(\"\\n\")"
   ]
  },
  {
   "cell_type": "code",
   "execution_count": null,
   "metadata": {},
   "outputs": [],
   "source": [
    "class wire():\n",
    "    def __init__(self):\n",
    "        self.operator_map = {\n",
    "            \"IDENTICAL\": lambda x, y: x,\n",
    "            \"NOT\": lambda x, y: ~x,\n",
    "            \"AND\": lambda x, y: x & y,\n",
    "            \"OR\": lambda x, y: x | y,\n",
    "            \"LSHIFT\": lambda x, y: x << y,\n",
    "            \"RSHIFT\": lambda x, y: x >> y,\n",
    "        }\n",
    "        self.values = dict()\n",
    "    \n",
    "    @staticmethod\n",
    "    def command_split(command):\n",
    "        command_input, command_output = command.split(\" -> \")\n",
    "        input_split = command_input.split(\" \")\n",
    "        if len(input_split) == 1:\n",
    "            operator = \"IDENTICAL\"\n",
    "            variable_0 = input_split[0]\n",
    "            variable_1 = None\n",
    "        elif len(input_split) == 2:\n",
    "            operator = \"NOT\"\n",
    "            variable_0 = input_split[1]\n",
    "            variable_1 = None\n",
    "        else:\n",
    "            operator = input_split[1]\n",
    "            variable_0 = input_split[0]\n",
    "            variable_1 = input_split[2]\n",
    "        return (command_output, operator, variable_0, variable_1)\n",
    "    \n",
    "    \n",
    "    def get_num(self, variable):\n",
    "        try:\n",
    "            return int(variable)\n",
    "        except:\n",
    "            if variable in self.values:\n",
    "                return self.values[variable]\n",
    "            else:\n",
    "                return None\n",
    "    \n",
    "    def operate(self,command_split):\n",
    "        command_output, operator, variable_0, variable_1 = command_split\n",
    "        \n",
    "        variable_0_int = self.get_num(variable_0)\n",
    "        variable_1_int = self.get_num(variable_1)\n",
    "        if operator in [\"NOT\", \"IDENTICAL\"]:\n",
    "            if variable_0_int is None:\n",
    "                return None\n",
    "        else:\n",
    "            if (variable_0_int is None) or (variable_1_int is None):\n",
    "                return None\n",
    "        \n",
    "        self.values[command_output] = self.operator_map[operator](variable_0_int, variable_1_int)"
   ]
  },
  {
   "cell_type": "code",
   "execution_count": 3,
   "metadata": {},
   "outputs": [],
   "source": [
    "def value_a(input_data):\n",
    "    wire_1 = wire()\n",
    "    while \"a\" not in wire_1.values:\n",
    "        for x in input_data:\n",
    "            command_split = wire.command_split(x)\n",
    "            if command_split[0] not in wire_1.values:\n",
    "                wire_1.operate(command_split)\n",
    "    return wire_1.values[\"a\"]"
   ]
  },
  {
   "cell_type": "code",
   "execution_count": 4,
   "metadata": {},
   "outputs": [
    {
     "data": {
      "text/plain": [
       "956"
      ]
     },
     "execution_count": 4,
     "metadata": {},
     "output_type": "execute_result"
    }
   ],
   "source": [
    "value_a(input_data)"
   ]
  },
  {
   "cell_type": "markdown",
   "metadata": {},
   "source": [
    "# Part Two \n",
    "Now, take the signal you got on wire a, override wire b to that signal, and reset the other wires (including wire a). What new signal is ultimately provided to wire a?"
   ]
  },
  {
   "cell_type": "code",
   "execution_count": 5,
   "metadata": {},
   "outputs": [],
   "source": [
    "def value_a_2(input_data):\n",
    "    wire_2 = wire()\n",
    "    wire_2.values[\"b\"] = 956\n",
    "    while \"a\" not in wire_2.values:\n",
    "        for x in input_data:\n",
    "            command_split = wire.command_split(x)\n",
    "            if command_split[0] not in wire_2.values:\n",
    "                wire_2.operate(command_split)\n",
    "    return wire_2.values[\"a\"]"
   ]
  },
  {
   "cell_type": "code",
   "execution_count": 6,
   "metadata": {},
   "outputs": [
    {
     "data": {
      "text/plain": [
       "40149"
      ]
     },
     "execution_count": 6,
     "metadata": {},
     "output_type": "execute_result"
    }
   ],
   "source": [
    "value_a_2(input_data)"
   ]
  }
 ],
 "metadata": {
  "kernelspec": {
   "display_name": "Python 3",
   "language": "python",
   "name": "python3"
  },
  "language_info": {
   "codemirror_mode": {
    "name": "ipython",
    "version": 3
   },
   "file_extension": ".py",
   "mimetype": "text/x-python",
   "name": "python",
   "nbconvert_exporter": "python",
   "pygments_lexer": "ipython3",
   "version": "3.7.3"
  }
 },
 "nbformat": 4,
 "nbformat_minor": 4
}
