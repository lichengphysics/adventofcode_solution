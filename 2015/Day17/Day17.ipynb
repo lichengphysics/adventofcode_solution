{
 "cells": [
  {
   "cell_type": "markdown",
   "metadata": {},
   "source": [
    "# Day 17: No Such Thing as Too Much \n",
    "The elves bought too much eggnog again - 150 liters this time. To fit it all into your refrigerator, you'll need to move it into smaller containers. You take an inventory of the capacities of the available containers.\n",
    "\n",
    "For example, suppose you have containers of size 20, 15, 10, 5, and 5 liters. If you need to store 25 liters, there are four ways to do it:\n",
    "```\n",
    "15 and 10\n",
    "20 and 5 (the first 5)\n",
    "20 and 5 (the second 5)\n",
    "15, 5, and 5\n",
    "```\n",
    "Filling all containers entirely, how many different combinations of containers can exactly fit all 150 liters of eggnog?"
   ]
  },
  {
   "cell_type": "code",
   "execution_count": 1,
   "metadata": {},
   "outputs": [],
   "source": [
    "with open(\"input.txt\",\"r\") as f:\n",
    "    input_data = [int(x) for x in f.read().split(\"\\n\")]"
   ]
  },
  {
   "cell_type": "code",
   "execution_count": 2,
   "metadata": {},
   "outputs": [],
   "source": [
    "def comb_cont(total = 150, container = input_data):  \n",
    "    if total == 0:\n",
    "        return 1\n",
    "    if total < 0:\n",
    "        return 0\n",
    "    \n",
    "    return sum([comb_cont(total-x, container[i+1:].copy()) for i, x in enumerate(container)])"
   ]
  },
  {
   "cell_type": "code",
   "execution_count": 3,
   "metadata": {},
   "outputs": [
    {
     "data": {
      "text/plain": [
       "4372"
      ]
     },
     "execution_count": 3,
     "metadata": {},
     "output_type": "execute_result"
    }
   ],
   "source": [
    "comb_cont(total = 150, container = input_data)"
   ]
  },
  {
   "cell_type": "markdown",
   "metadata": {},
   "source": [
    "# Part Two \n",
    "While playing with all the containers in the kitchen, another load of eggnog arrives! The shipping and receiving department is requesting as many containers as you can spare.\n",
    "\n",
    "Find the minimum number of containers that can exactly fit all 150 liters of eggnog. How many different ways can you fill that number of containers and still hold exactly 150 litres?\n",
    "\n",
    "In the example above, the minimum number of containers was two. There were three ways to use that many containers, and so the answer there would be 3.\n"
   ]
  },
  {
   "cell_type": "code",
   "execution_count": 4,
   "metadata": {},
   "outputs": [],
   "source": [
    "def comb_cont_prof(total = 150, container = input_data):  \n",
    "    \n",
    "    result = []\n",
    "    for i, x in enumerate(container):\n",
    "        if total == x:\n",
    "            result = result + [[x]]\n",
    "        elif total > x:   \n",
    "            container_cp = container[i+1:].copy()\n",
    "            result_x = comb_cont_prof(total-x, container_cp)\n",
    "            result = result + [r + [x] for r in result_x]\n",
    "        \n",
    "    return result"
   ]
  },
  {
   "cell_type": "code",
   "execution_count": 5,
   "metadata": {},
   "outputs": [],
   "source": [
    "def min_usage(total = 150, container = input_data):  \n",
    "    cont_prof = comb_cont_prof(total = 150, container = input_data)\n",
    "    min_usage = min([len(x) for x in cont_prof])\n",
    "    return sum([len(x)==min_usage for x in cont_prof])"
   ]
  },
  {
   "cell_type": "code",
   "execution_count": 6,
   "metadata": {},
   "outputs": [
    {
     "data": {
      "text/plain": [
       "4"
      ]
     },
     "execution_count": 6,
     "metadata": {},
     "output_type": "execute_result"
    }
   ],
   "source": [
    "min_usage(total = 150, container = input_data)"
   ]
  },
  {
   "cell_type": "code",
   "execution_count": null,
   "metadata": {},
   "outputs": [],
   "source": []
  }
 ],
 "metadata": {
  "kernelspec": {
   "display_name": "Python 3",
   "language": "python",
   "name": "python3"
  },
  "language_info": {
   "codemirror_mode": {
    "name": "ipython",
    "version": 3
   },
   "file_extension": ".py",
   "mimetype": "text/x-python",
   "name": "python",
   "nbconvert_exporter": "python",
   "pygments_lexer": "ipython3",
   "version": "3.7.3"
  }
 },
 "nbformat": 4,
 "nbformat_minor": 4
}
