{
 "cells": [
  {
   "cell_type": "markdown",
   "metadata": {},
   "source": [
    "# Day 13: Knights of the Dinner Table \n",
    "In years past, the holiday feast with your family hasn't gone so well. Not everyone gets along! This year, you resolve, will be different. You're going to find the optimal seating arrangement and avoid all those awkward conversations.\n",
    "\n",
    "You start by writing up a list of everyone invited and the amount their happiness would increase or decrease if they were to find themselves sitting next to each other person. You have a circular table that will be just big enough to fit everyone comfortably, and so each person will have exactly two neighbors.\n",
    "\n",
    "For example, suppose you have only four attendees planned, and you calculate their potential happiness as follows:\n",
    "```\n",
    "Alice would gain 54 happiness units by sitting next to Bob.\n",
    "Alice would lose 79 happiness units by sitting next to Carol.\n",
    "Alice would lose 2 happiness units by sitting next to David.\n",
    "Bob would gain 83 happiness units by sitting next to Alice.\n",
    "Bob would lose 7 happiness units by sitting next to Carol.\n",
    "Bob would lose 63 happiness units by sitting next to David.\n",
    "Carol would lose 62 happiness units by sitting next to Alice.\n",
    "Carol would gain 60 happiness units by sitting next to Bob.\n",
    "Carol would gain 55 happiness units by sitting next to David.\n",
    "David would gain 46 happiness units by sitting next to Alice.\n",
    "David would lose 7 happiness units by sitting next to Bob.\n",
    "David would gain 41 happiness units by sitting next to Carol.\n",
    "```\n",
    "Then, if you seat Alice next to David, Alice would lose 2 happiness units (because David talks so much), but David would gain 46 happiness units (because Alice is such a good listener), for a total change of 44.\n",
    "\n",
    "If you continue around the table, you could then seat Bob next to Alice (Bob gains 83, Alice gains 54). Finally, seat Carol, who sits next to Bob (Carol gains 60, Bob loses 7) and David (Carol gains 55, David gains 41). The arrangement looks like this:\n",
    "```\n",
    "     +41 +46\n",
    "+55   David    -2\n",
    "Carol       Alice\n",
    "+60    Bob    +54\n",
    "     -7  +83\n",
    "```\n",
    "After trying every other seating arrangement in this hypothetical scenario, you find that this one is the most optimal, with a total change in happiness of 330.\n",
    "\n",
    "What is the total change in happiness for the optimal seating arrangement of the actual guest list?"
   ]
  },
  {
   "cell_type": "code",
   "execution_count": 1,
   "metadata": {},
   "outputs": [],
   "source": [
    "with open(\"input.txt\",\"r\") as f:\n",
    "    input_data = f.read().split(\"\\n\")\n",
    "    \n",
    "import re\n",
    "\n",
    "input_data_clean = {}\n",
    "mask = re.compile(\"(.*) would (.*) (.*) happiness units by sitting next to (.*).\")\n",
    "\n",
    "for i in range(len(input_data)):\n",
    "    result = mask.search(input_data[i])\n",
    "    name1, sign, value, name2 = result.group(1), result.group(2) == \"gain\", int(result.group(3)), result.group(4)\n",
    "    if name1 not in input_data_clean:\n",
    "        input_data_clean[name1] = {}\n",
    "    input_data_clean[name1][name2] = value if sign else value * (-1)"
   ]
  },
  {
   "cell_type": "code",
   "execution_count": 2,
   "metadata": {},
   "outputs": [],
   "source": [
    "from itertools import permutations"
   ]
  },
  {
   "cell_type": "code",
   "execution_count": 3,
   "metadata": {},
   "outputs": [],
   "source": [
    "def best_happiness(input_data_clean):\n",
    "    guest_list = list(input_data_clean.keys())\n",
    "    result = None\n",
    "    for perm in permutations(guest_list):\n",
    "        happiness = 0\n",
    "        for i in range(len(perm)):\n",
    "            name0 = perm[i]\n",
    "            name1 = perm[(i-1) % len(perm)]\n",
    "            name2 = perm[(i+1) % len(perm)]\n",
    "            happiness = happiness + input_data_clean[name0][name1] + input_data_clean[name0][name2] \n",
    "        if (result is None) or (happiness > result):\n",
    "            result = happiness\n",
    "    return result"
   ]
  },
  {
   "cell_type": "code",
   "execution_count": 4,
   "metadata": {},
   "outputs": [
    {
     "data": {
      "text/plain": [
       "618"
      ]
     },
     "execution_count": 4,
     "metadata": {},
     "output_type": "execute_result"
    }
   ],
   "source": [
    "best_happiness(input_data_clean)"
   ]
  },
  {
   "cell_type": "markdown",
   "metadata": {},
   "source": [
    "# Part Two\n",
    "In all the commotion, you realize that you forgot to seat yourself. At this point, you're pretty apathetic toward the whole thing, and your happiness wouldn't really go up or down regardless of who you sit next to. You assume everyone else would be just as ambivalent about sitting next to you, too.\n",
    "\n",
    "So, add yourself to the list, and give all happiness relationships that involve you a score of 0.\n",
    "\n",
    "What is the total change in happiness for the optimal seating arrangement that actually includes yourself?"
   ]
  },
  {
   "cell_type": "code",
   "execution_count": 5,
   "metadata": {},
   "outputs": [],
   "source": [
    "input_data_clean[\"you\"] = {}\n",
    "for x in input_data_clean:\n",
    "    input_data_clean[x][\"you\"] = 0\n",
    "    input_data_clean[\"you\"][x] = 0"
   ]
  },
  {
   "cell_type": "code",
   "execution_count": 6,
   "metadata": {},
   "outputs": [
    {
     "data": {
      "text/plain": [
       "601"
      ]
     },
     "execution_count": 6,
     "metadata": {},
     "output_type": "execute_result"
    }
   ],
   "source": [
    "best_happiness(input_data_clean)"
   ]
  },
  {
   "cell_type": "code",
   "execution_count": null,
   "metadata": {},
   "outputs": [],
   "source": []
  }
 ],
 "metadata": {
  "kernelspec": {
   "display_name": "Python 3",
   "language": "python",
   "name": "python3"
  },
  "language_info": {
   "codemirror_mode": {
    "name": "ipython",
    "version": 3
   },
   "file_extension": ".py",
   "mimetype": "text/x-python",
   "name": "python",
   "nbconvert_exporter": "python",
   "pygments_lexer": "ipython3",
   "version": "3.7.3"
  }
 },
 "nbformat": 4,
 "nbformat_minor": 4
}
