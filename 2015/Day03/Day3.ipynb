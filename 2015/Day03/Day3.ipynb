{
 "cells": [
  {
   "cell_type": "markdown",
   "metadata": {},
   "source": [
    "# Day 3: Perfectly Spherical Houses in a Vacuum \n",
    "Santa is delivering presents to an infinite two-dimensional grid of houses.\n",
    "\n",
    "He begins by delivering a present to the house at his starting location, and then an elf at the North Pole calls him via radio and tells him where to move next. Moves are always exactly one house to the north (^), south (v), east (>), or west (<). After each move, he delivers another present to the house at his new location.\n",
    "\n",
    "However, the elf back at the north pole has had a little too much eggnog, and so his directions are a little off, and Santa ends up visiting some houses more than once. How many houses receive at least one present?\n",
    "\n",
    "For example:\n",
    "\n",
    "* `>` delivers presents to 2 houses: one at the starting location, and one to the east.\n",
    "* `^>v<` delivers presents to 4 houses in a square, including twice to the house at his starting/ending location.\n",
    "* `^v^v^v^v^v` delivers a bunch of presents to some very lucky children at only 2 houses.\n"
   ]
  },
  {
   "cell_type": "code",
   "execution_count": 1,
   "metadata": {},
   "outputs": [],
   "source": [
    "with open(\"input.txt\",\"r\") as f:\n",
    "    input_data = f.read()"
   ]
  },
  {
   "cell_type": "code",
   "execution_count": 2,
   "metadata": {},
   "outputs": [],
   "source": [
    "def move_location(current, x):\n",
    "    if x == \"^\":\n",
    "        current = (current[0],current[1] + 1)\n",
    "    elif x== \"v\":\n",
    "        current = (current[0],current[1] - 1)\n",
    "    elif x == \"<\":\n",
    "        current = (current[0] - 1,current[1])\n",
    "    elif x == \">\":\n",
    "        current = (current[0] + 1,current[1])\n",
    "    return current"
   ]
  },
  {
   "cell_type": "code",
   "execution_count": 3,
   "metadata": {},
   "outputs": [],
   "source": [
    "def number_house(input_data):\n",
    "    house_loc = {(0,0)}\n",
    "    current = (0,0)\n",
    "    \n",
    "    for x in input_data:\n",
    "        current = move_location(current, x)\n",
    "        house_loc.add(current)\n",
    "    return len(house_loc)\n",
    "    "
   ]
  },
  {
   "cell_type": "code",
   "execution_count": 4,
   "metadata": {},
   "outputs": [
    {
     "data": {
      "text/plain": [
       "2592"
      ]
     },
     "execution_count": 4,
     "metadata": {},
     "output_type": "execute_result"
    }
   ],
   "source": [
    "number_house(input_data)"
   ]
  },
  {
   "cell_type": "markdown",
   "metadata": {},
   "source": [
    "# Part Two \n",
    "The next year, to speed up the process, Santa creates a robot version of himself, Robo-Santa, to deliver presents with him.\n",
    "\n",
    "Santa and Robo-Santa start at the same location (delivering two presents to the same starting house), then take turns moving based on instructions from the elf, who is eggnoggedly reading from the same script as the previous year.\n",
    "\n",
    "This year, how many houses receive at least one present?\n",
    "\n",
    "For example:\n",
    "\n",
    "* `^v` delivers presents to 3 houses, because Santa goes north, and then Robo-Santa goes south.\n",
    "* `^>v<` now delivers presents to 3 houses, and Santa and Robo-Santa end up back where they started.\n",
    "* `^v^v^v^v^v` now delivers presents to 11 houses, with Santa going one direction and Robo-Santa going the other."
   ]
  },
  {
   "cell_type": "code",
   "execution_count": 5,
   "metadata": {},
   "outputs": [],
   "source": [
    "def number_house_2(input_data):\n",
    "    house_loc = {(0,0)}\n",
    "    current1 = (0,0)\n",
    "    current2 = (0,0)\n",
    "    \n",
    "    for i, x in enumerate(input_data):\n",
    "        if i % 2 == 0:\n",
    "            current1 = move_location(current1, x)\n",
    "            house_loc.add(current1)\n",
    "        else:\n",
    "            current2 = move_location(current2, x)\n",
    "            house_loc.add(current2)\n",
    "    return len(house_loc)\n",
    "    "
   ]
  },
  {
   "cell_type": "code",
   "execution_count": 6,
   "metadata": {},
   "outputs": [
    {
     "data": {
      "text/plain": [
       "2360"
      ]
     },
     "execution_count": 6,
     "metadata": {},
     "output_type": "execute_result"
    }
   ],
   "source": [
    "number_house_2(input_data)"
   ]
  },
  {
   "cell_type": "code",
   "execution_count": null,
   "metadata": {},
   "outputs": [],
   "source": []
  }
 ],
 "metadata": {
  "kernelspec": {
   "display_name": "Python 3",
   "language": "python",
   "name": "python3"
  },
  "language_info": {
   "codemirror_mode": {
    "name": "ipython",
    "version": 3
   },
   "file_extension": ".py",
   "mimetype": "text/x-python",
   "name": "python",
   "nbconvert_exporter": "python",
   "pygments_lexer": "ipython3",
   "version": "3.7.3"
  }
 },
 "nbformat": 4,
 "nbformat_minor": 4
}
