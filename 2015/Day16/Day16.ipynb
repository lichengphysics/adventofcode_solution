{
 "cells": [
  {
   "cell_type": "markdown",
   "metadata": {},
   "source": [
    "# Day 16: Aunt Sue \n",
    "Your Aunt Sue has given you a wonderful gift, and you'd like to send her a thank you card. However, there's a small problem: she signed it \"From, Aunt Sue\".\n",
    "\n",
    "You have 500 Aunts named \"Sue\".\n",
    "\n",
    "So, to avoid sending the card to the wrong person, you need to figure out which Aunt Sue (which you conveniently number 1 to 500, for sanity) gave you the gift. You open the present and, as luck would have it, good ol' Aunt Sue got you a My First Crime Scene Analysis Machine! Just what you wanted. Or needed, as the case may be.\n",
    "\n",
    "The My First Crime Scene Analysis Machine (MFCSAM for short) can detect a few specific compounds in a given sample, as well as how many distinct kinds of those compounds there are. According to the instructions, these are what the MFCSAM can detect:\n",
    "\n",
    "children, by human DNA age analysis.\n",
    "cats. It doesn't differentiate individual breeds.\n",
    "Several seemingly random breeds of dog: samoyeds, pomeranians, akitas, and vizslas.\n",
    "goldfish. No other kinds of fish.\n",
    "trees, all in one group.\n",
    "cars, presumably by exhaust or gasoline or something.\n",
    "perfumes, which is handy, since many of your Aunts Sue wear a few kinds.\n",
    "In fact, many of your Aunts Sue have many of these. You put the wrapping from the gift into the MFCSAM. It beeps inquisitively at you a few times and then prints out a message on ticker tape:\n",
    "```\n",
    "children: 3\n",
    "cats: 7\n",
    "samoyeds: 2\n",
    "pomeranians: 3\n",
    "akitas: 0\n",
    "vizslas: 0\n",
    "goldfish: 5\n",
    "trees: 3\n",
    "cars: 2\n",
    "perfumes: 1\n",
    "```\n",
    "You make a list of the things you can remember about each Aunt Sue. Things missing from your list aren't zero - you simply don't remember the value.\n",
    "\n",
    "What is the number of the Sue that got you the gift?"
   ]
  },
  {
   "cell_type": "code",
   "execution_count": null,
   "metadata": {},
   "outputs": [],
   "source": [
    "with open(\"input.txt\",\"r\") as f:\n",
    "    input_data = f.read().split(\"\\n\")\n",
    "\n",
    "input_data_clean = {}\n",
    "for input_data_row in input_data:\n",
    "    split_loc = input_data_row.find(\":\")\n",
    "    sue_n = input_data_row[:split_loc]\n",
    "    fact = input_data_row[split_loc+2:]\n",
    "    num = int(sue_n[4:])\n",
    "    fact_list = [x.split(\": \") for x in fact.split(\", \")]\n",
    "    fact_dict = {x[0]:int(x[1]) for x in fact_list}\n",
    "    input_data_clean[num] = fact_dict\n",
    "    \n",
    "VALID_FACT = {\n",
    "    \"children\": 3,\n",
    "    \"cats\": 7,\n",
    "    \"samoyeds\": 2,\n",
    "    \"pomeranians\": 3,\n",
    "    \"akitas\": 0,\n",
    "    \"vizslas\": 0,\n",
    "    \"goldfish\": 5,\n",
    "    \"trees\": 3,\n",
    "    \"cars\": 2,\n",
    "    \"perfumes\": 1\n",
    "}"
   ]
  },
  {
   "cell_type": "code",
   "execution_count": null,
   "metadata": {},
   "outputs": [],
   "source": [
    "def valid_sue(fact_dict, valid_fact = VALID_FACT):\n",
    "    for key in fact_dict:\n",
    "        if key in valid_fact:\n",
    "            if fact_dict[key] != valid_fact[key]:\n",
    "                return False\n",
    "    return True\n",
    "\n",
    "def valid_sue_number(input_data_clean, valid_fact = VALID_FACT):\n",
    "    for k, x in input_data_clean.items():\n",
    "        if valid_sue(x, valid_fact):\n",
    "            return k"
   ]
  },
  {
   "cell_type": "code",
   "execution_count": 3,
   "metadata": {},
   "outputs": [
    {
     "data": {
      "text/plain": [
       "40"
      ]
     },
     "execution_count": 3,
     "metadata": {},
     "output_type": "execute_result"
    }
   ],
   "source": [
    "valid_sue_number(input_data_clean, valid_fact = VALID_FACT)"
   ]
  },
  {
   "cell_type": "markdown",
   "metadata": {},
   "source": [
    "# Part Two \n",
    "As you're about to send the thank you note, something in the MFCSAM's instructions catches your eye. Apparently, it has an outdated retroencabulator, and so the output from the machine isn't exact values - some of them indicate ranges.\n",
    "\n",
    "In particular, the cats and trees readings indicates that there are greater than that many (due to the unpredictable nuclear decay of cat dander and tree pollen), while the pomeranians and goldfish readings indicate that there are fewer than that many (due to the modial interaction of magnetoreluctance)."
   ]
  },
  {
   "cell_type": "code",
   "execution_count": 4,
   "metadata": {},
   "outputs": [],
   "source": [
    "def valid_sue_2(fact_dict, valid_fact = VALID_FACT):\n",
    "    for key in fact_dict:\n",
    "        if key in valid_fact:\n",
    "            if key in [\"cats\",\"trees\"]:\n",
    "                if fact_dict[key] <= valid_fact[key]:\n",
    "                    return False\n",
    "            elif key in [\"pomeranians\",\"goldfish\"]:\n",
    "                if fact_dict[key] >= valid_fact[key]:\n",
    "                    return False\n",
    "            else:\n",
    "                if fact_dict[key] != valid_fact[key]:\n",
    "                    return False\n",
    "    return True\n",
    "\n",
    "def valid_sue_number_2(input_data_clean, valid_fact = VALID_FACT):\n",
    "    for k, x in input_data_clean.items():\n",
    "        if valid_sue_2(x, valid_fact):\n",
    "            return k"
   ]
  },
  {
   "cell_type": "code",
   "execution_count": 5,
   "metadata": {},
   "outputs": [
    {
     "data": {
      "text/plain": [
       "241"
      ]
     },
     "execution_count": 5,
     "metadata": {},
     "output_type": "execute_result"
    }
   ],
   "source": [
    "valid_sue_number_2(input_data_clean, valid_fact = VALID_FACT)"
   ]
  },
  {
   "cell_type": "code",
   "execution_count": null,
   "metadata": {},
   "outputs": [],
   "source": []
  }
 ],
 "metadata": {
  "kernelspec": {
   "display_name": "Python 3",
   "language": "python",
   "name": "python3"
  },
  "language_info": {
   "codemirror_mode": {
    "name": "ipython",
    "version": 3
   },
   "file_extension": ".py",
   "mimetype": "text/x-python",
   "name": "python",
   "nbconvert_exporter": "python",
   "pygments_lexer": "ipython3",
   "version": "3.7.3"
  }
 },
 "nbformat": 4,
 "nbformat_minor": 4
}
