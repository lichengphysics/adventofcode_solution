{
 "cells": [
  {
   "cell_type": "markdown",
   "metadata": {},
   "source": [
    "# Day 15: Science for Hungry People\n",
    "Today, you set out on the task of perfecting your milk-dunking cookie recipe. All you have to do is find the right balance of ingredients.\n",
    "\n",
    "Your recipe leaves room for exactly 100 teaspoons of ingredients. You make a list of the remaining ingredients you could use to finish the recipe (your puzzle input) and their properties per teaspoon:\n",
    "```\n",
    "capacity (how well it helps the cookie absorb milk)\n",
    "durability (how well it keeps the cookie intact when full of milk)\n",
    "flavor (how tasty it makes the cookie)\n",
    "texture (how it improves the feel of the cookie)\n",
    "calories (how many calories it adds to the cookie)\n",
    "```\n",
    "You can only measure ingredients in whole-teaspoon amounts accurately, and you have to be accurate so you can reproduce your results in the future. The total score of a cookie can be found by adding up each of the properties (negative totals become 0) and then multiplying together everything except calories.\n",
    "\n",
    "For instance, suppose you have these two ingredients:\n",
    "```\n",
    "Butterscotch: capacity -1, durability -2, flavor 6, texture 3, calories 8\n",
    "Cinnamon: capacity 2, durability 3, flavor -2, texture -1, calories 3\n",
    "```\n",
    "Then, choosing to use 44 teaspoons of butterscotch and 56 teaspoons of cinnamon (because the amounts of each ingredient must add up to 100) would result in a cookie with the following properties:\n",
    "```\n",
    "A capacity of 44*-1 + 56*2 = 68\n",
    "A durability of 44*-2 + 56*3 = 80\n",
    "A flavor of 44*6 + 56*-2 = 152\n",
    "A texture of 44*3 + 56*-1 = 76\n",
    "```\n",
    "Multiplying these together (68 * 80 * 152 * 76, ignoring calories for now) results in a total score of 62842880, which happens to be the best score possible given these ingredients. If any properties had produced a negative total, it would have instead become zero, causing the whole score to multiply to zero.\n",
    "\n",
    "Given the ingredients in your kitchen and their properties, what is the total score of the highest-scoring cookie you can make?"
   ]
  },
  {
   "cell_type": "code",
   "execution_count": 1,
   "metadata": {},
   "outputs": [],
   "source": [
    "with open(\"input.txt\",\"r\") as f:\n",
    "    input_data = f.read().split(\"\\n\")"
   ]
  },
  {
   "cell_type": "code",
   "execution_count": 2,
   "metadata": {},
   "outputs": [],
   "source": [
    "import re\n",
    "mask = re.compile(r\"(.*): capacity (.*), durability (.*), flavor (.*), texture (.*), calories (.*)\")\n",
    "input_data_clean = {}\n",
    "for i in range(len(input_data)):\n",
    "    result = mask.search(input_data[i])\n",
    "    input_data_clean[result[1]] = {\n",
    "            \"capacity\": int(result[2]),\n",
    "            \"durability\":int(result[3]),\n",
    "            \"flavor\": int(result[4]),\n",
    "            \"texture\": int(result[5]),\n",
    "            \"calories\": int(result[6]),\n",
    "        }"
   ]
  },
  {
   "cell_type": "code",
   "execution_count": 3,
   "metadata": {},
   "outputs": [],
   "source": [
    "def score(input_data_clean, teaspoons):\n",
    "    measure_result = {'capacity':0,\n",
    "                      'durability':0,\n",
    "                      'flavor':0,\n",
    "                      'texture':0}\n",
    "    for ingredient in input_data_clean:\n",
    "        for measure in measure_result:\n",
    "            measure_result[measure] = measure_result[measure] + input_data_clean[ingredient][measure] * teaspoons[ingredient]\n",
    "    result = 1\n",
    "    for x in measure_result:\n",
    "        if measure_result[x] <= 0:\n",
    "            return 0\n",
    "        result = result * measure_result[x]\n",
    "    return result\n",
    "        "
   ]
  },
  {
   "cell_type": "code",
   "execution_count": 4,
   "metadata": {},
   "outputs": [],
   "source": [
    "def separate(total, number):\n",
    "    if number == 1:\n",
    "        return [total] if total > 0 else None\n",
    "    if number == 2:\n",
    "        return [[x, total-x] for x in range(1, total) if 0 < x < total]\n",
    "    result = []\n",
    "    for x in range(1, total):\n",
    "        rest = separate(total-x, number-1)\n",
    "        result = result + [[x]+r for r in rest]\n",
    "    return result"
   ]
  },
  {
   "cell_type": "code",
   "execution_count": 5,
   "metadata": {},
   "outputs": [],
   "source": [
    "def best_score(input_data_clean, total_spoons = 100):\n",
    "    keys_list = list(input_data_clean.keys())\n",
    "    \n",
    "    best_score = 0\n",
    "    for total_spoons_separate in separate(total_spoons, len(keys_list)):\n",
    "        teaspoons = {x[0]:x[1] for x in zip(keys_list, total_spoons_separate)}\n",
    "        score_separate = score(input_data_clean, teaspoons)\n",
    "        if score_separate > best_score:\n",
    "            best_score = score_separate\n",
    "    return best_score\n",
    "        "
   ]
  },
  {
   "cell_type": "code",
   "execution_count": 6,
   "metadata": {},
   "outputs": [
    {
     "data": {
      "text/plain": [
       "222870"
      ]
     },
     "execution_count": 6,
     "metadata": {},
     "output_type": "execute_result"
    }
   ],
   "source": [
    "best_score(input_data_clean, total_spoons = 100)"
   ]
  },
  {
   "cell_type": "markdown",
   "metadata": {},
   "source": [
    "# Part Two\n",
    "Your cookie recipe becomes wildly popular! Someone asks if you can make another recipe that has exactly 500 calories per cookie (so they can use it as a meal replacement). Keep the rest of your award-winning process the same (100 teaspoons, same ingredients, same scoring system).\n",
    "\n",
    "For example, given the ingredients above, if you had instead selected 40 teaspoons of butterscotch and 60 teaspoons of cinnamon (which still adds to 100), the total calorie count would be 40*8 + 60*3 = 500. The total score would go down, though: only 57600000, the best you can do in such trying circumstances.\n",
    "\n",
    "Given the ingredients in your kitchen and their properties, what is the total score of the highest-scoring cookie you can make with a calorie total of 500?"
   ]
  },
  {
   "cell_type": "code",
   "execution_count": 7,
   "metadata": {},
   "outputs": [],
   "source": [
    "def total_calorie(input_data_clean, teaspoons):\n",
    "    result = 0\n",
    "    for ingredient in input_data_clean:\n",
    "        result = result + input_data_clean[ingredient][\"calories\"] * teaspoons[ingredient]\n",
    "    return result\n",
    "        "
   ]
  },
  {
   "cell_type": "code",
   "execution_count": 8,
   "metadata": {},
   "outputs": [],
   "source": [
    "def best_score_2(input_data_clean, total_spoons = 100):\n",
    "    keys_list = list(input_data_clean.keys())\n",
    "    \n",
    "    best_score = 0\n",
    "    for total_spoons_separate in separate(total_spoons, len(keys_list)):\n",
    "        teaspoons = {x[0]:x[1] for x in zip(keys_list, total_spoons_separate)}\n",
    "        if total_calorie(input_data_clean, teaspoons) != 500:\n",
    "            continue\n",
    "        score_separate = score(input_data_clean, teaspoons)\n",
    "        if score_separate > best_score:\n",
    "            best_score = score_separate\n",
    "    return best_score\n",
    "        "
   ]
  },
  {
   "cell_type": "code",
   "execution_count": 9,
   "metadata": {},
   "outputs": [
    {
     "data": {
      "text/plain": [
       "117936"
      ]
     },
     "execution_count": 9,
     "metadata": {},
     "output_type": "execute_result"
    }
   ],
   "source": [
    "best_score_2(input_data_clean, total_spoons = 100)"
   ]
  },
  {
   "cell_type": "code",
   "execution_count": null,
   "metadata": {},
   "outputs": [],
   "source": []
  }
 ],
 "metadata": {
  "kernelspec": {
   "display_name": "Python 3",
   "language": "python",
   "name": "python3"
  },
  "language_info": {
   "codemirror_mode": {
    "name": "ipython",
    "version": 3
   },
   "file_extension": ".py",
   "mimetype": "text/x-python",
   "name": "python",
   "nbconvert_exporter": "python",
   "pygments_lexer": "ipython3",
   "version": "3.7.3"
  }
 },
 "nbformat": 4,
 "nbformat_minor": 4
}
