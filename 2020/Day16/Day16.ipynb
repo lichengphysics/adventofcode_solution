{
 "cells": [
  {
   "cell_type": "markdown",
   "metadata": {},
   "source": [
    "# Day 16: Ticket Translation \n",
    "As you're walking to yet another connecting flight, you realize that one of the legs of your re-routed trip coming up is on a high-speed train. However, the train ticket you were given is in a language you don't understand. You should probably figure out what it says before you get to the train station after the next flight.\n",
    "\n",
    "Unfortunately, you can't actually read the words on the ticket. You can, however, read the numbers, and so you figure out the fields these tickets must have and the valid ranges for values in those fields.\n",
    "\n",
    "You collect the rules for ticket fields, the numbers on your ticket, and the numbers on other nearby tickets for the same train service (via the airport security cameras) together into a single document you can reference (your puzzle input).\n",
    "\n",
    "The rules for ticket fields specify a list of fields that exist somewhere on the ticket and the valid ranges of values for each field. For example, a rule like class: 1-3 or 5-7 means that one of the fields in every ticket is named class and can be any value in the ranges 1-3 or 5-7 (inclusive, such that 3 and 5 are both valid in this field, but 4 is not).\n",
    "\n",
    "Each ticket is represented by a single line of comma-separated values. The values are the numbers on the ticket in the order they appear; every ticket has the same format. For example, consider this ticket:\n",
    "```\n",
    ".--------------------------------------------------------.\n",
    "| ????: 101    ?????: 102   ??????????: 103     ???: 104 |\n",
    "|                                                        |\n",
    "| ??: 301  ??: 302             ???????: 303      ??????? |\n",
    "| ??: 401  ??: 402           ???? ????: 403    ????????? |\n",
    "'--------------------------------------------------------'\n",
    "```\n",
    "Here, ? represents text in a language you don't understand. This ticket might be represented as 101,102,103,104,301,302,303,401,402,403; of course, the actual train tickets you're looking at are much more complicated. In any case, you've extracted just the numbers in such a way that the first number is always the same specific field, the second number is always a different specific field, and so on - you just don't know what each position actually means!\n",
    "\n",
    "Start by determining which tickets are completely invalid; these are tickets that contain values which aren't valid for any field. Ignore your ticket for now.\n",
    "\n",
    "For example, suppose you have the following notes:\n",
    "```\n",
    "class: 1-3 or 5-7\n",
    "row: 6-11 or 33-44\n",
    "seat: 13-40 or 45-50\n",
    "\n",
    "your ticket:\n",
    "7,1,14\n",
    "\n",
    "nearby tickets:\n",
    "7,3,47\n",
    "40,4,50\n",
    "55,2,20\n",
    "38,6,12\n",
    "```\n",
    "It doesn't matter which position corresponds to which field; you can identify invalid nearby tickets by considering only whether tickets contain values that are not valid for any field. In this example, the values on the first nearby ticket are all valid for at least one field. This is not true of the other three nearby tickets: the values 4, 55, and 12 are are not valid for any field. Adding together all of the invalid values produces your ticket scanning error rate: 4 + 55 + 12 = 71.\n",
    "\n",
    "Consider the validity of the nearby tickets you scanned. What is your ticket scanning error rate?"
   ]
  },
  {
   "cell_type": "code",
   "execution_count": 1,
   "metadata": {},
   "outputs": [],
   "source": [
    "with open(\"input.txt\", \"r\") as f:\n",
    "    input_data = f.read().split(\"\\n\")"
   ]
  },
  {
   "cell_type": "code",
   "execution_count": 2,
   "metadata": {},
   "outputs": [],
   "source": [
    "label_rownum = {x:i for i, x in enumerate(input_data) if x in [\"your ticket:\", \"nearby tickets:\"]}"
   ]
  },
  {
   "cell_type": "code",
   "execution_count": 3,
   "metadata": {},
   "outputs": [],
   "source": [
    "rules_raw = input_data[:label_rownum[\"your ticket:\"]-1]"
   ]
  },
  {
   "cell_type": "code",
   "execution_count": 4,
   "metadata": {},
   "outputs": [],
   "source": [
    "your_ticket = [int(x) for x in input_data[label_rownum[\"your ticket:\"]+1].split(\",\")]"
   ]
  },
  {
   "cell_type": "code",
   "execution_count": 5,
   "metadata": {},
   "outputs": [],
   "source": [
    "neighbor_tickets = [[int(xx) for xx in x.split(\",\")]  for x in input_data[label_rownum['nearby tickets:']+1:]]"
   ]
  },
  {
   "cell_type": "code",
   "execution_count": 6,
   "metadata": {},
   "outputs": [],
   "source": [
    "rule_dict = {}\n",
    "for r in rules_raw:\n",
    "    key, valid_value_row = r.split(\": \")\n",
    "    valid_range = valid_value_row.split(\" or \")\n",
    "    valid_range_bound = [[int(xx) for xx in x.split(\"-\")] for x in valid_range]\n",
    "    rule_dict[key] = valid_range_bound"
   ]
  },
  {
   "cell_type": "code",
   "execution_count": 7,
   "metadata": {},
   "outputs": [],
   "source": [
    "def valid_ticket_value_rule(ticket_value, rule):\n",
    "    return (rule[0][0] <= ticket_value <= rule[0][1]) or (rule[1][0] <= ticket_value <= rule[1][1])"
   ]
  },
  {
   "cell_type": "code",
   "execution_count": 8,
   "metadata": {},
   "outputs": [],
   "source": [
    "def valid_ticket_value_any_rules(ticket_value, rule_dict):\n",
    "    return any(valid_ticket_value_rule(ticket_value, rule) for rule in rule_dict.values())"
   ]
  },
  {
   "cell_type": "code",
   "execution_count": 9,
   "metadata": {},
   "outputs": [],
   "source": [
    "def valid_ticket(ticket, rule_dict):\n",
    "    for ticket_value in ticket:\n",
    "        if not valid_ticket_value_any_rules(ticket_value, rule_dict):\n",
    "            return False, ticket_value\n",
    "    return True, None"
   ]
  },
  {
   "cell_type": "code",
   "execution_count": 10,
   "metadata": {},
   "outputs": [],
   "source": [
    "def all_invalid_tickets(tickets, rule_dict):\n",
    "    result = []\n",
    "    for i, t in enumerate(tickets):\n",
    "        single = valid_ticket(t, rule_dict)\n",
    "        if single[0] is False:\n",
    "            result.append([i, single[1]])\n",
    "    return result"
   ]
  },
  {
   "cell_type": "code",
   "execution_count": 11,
   "metadata": {},
   "outputs": [],
   "source": [
    "def scanning_error_rate(neighbor_tickets, rule_dict):\n",
    "    return sum([x[1] for x in all_invalid_tickets(neighbor_tickets, rule_dict)])"
   ]
  },
  {
   "cell_type": "code",
   "execution_count": 12,
   "metadata": {},
   "outputs": [
    {
     "data": {
      "text/plain": [
       "32835"
      ]
     },
     "execution_count": 12,
     "metadata": {},
     "output_type": "execute_result"
    }
   ],
   "source": [
    "scanning_error_rate(neighbor_tickets, rule_dict)"
   ]
  },
  {
   "cell_type": "markdown",
   "metadata": {},
   "source": [
    "# Part Two \n",
    "\n",
    "Now that you've identified which tickets contain invalid values, discard those tickets entirely. Use the remaining valid tickets to determine which field is which.\n",
    "\n",
    "Using the valid ranges for each field, determine what order the fields appear on the tickets. The order is consistent between all tickets: if seat is the third field, it is the third field on every ticket, including your ticket.\n",
    "\n",
    "For example, suppose you have the following notes:\n",
    "```\n",
    "class: 0-1 or 4-19\n",
    "row: 0-5 or 8-19\n",
    "seat: 0-13 or 16-19\n",
    "\n",
    "your ticket:\n",
    "11,12,13\n",
    "\n",
    "nearby tickets:\n",
    "3,9,18\n",
    "15,1,5\n",
    "5,14,9\n",
    "```\n",
    "Based on the nearby tickets in the above example, the first position must be row, the second position must be class, and the third position must be seat; you can conclude that in your ticket, class is 12, row is 11, and seat is 13.\n",
    "\n",
    "Once you work out which field is which, look for the six fields on your ticket that start with the word departure. What do you get if you multiply those six values together?\n",
    "\n"
   ]
  },
  {
   "cell_type": "code",
   "execution_count": 13,
   "metadata": {},
   "outputs": [],
   "source": [
    "def all_valid_tickets(neighbor_tickets, rule_dict,  your_ticket):\n",
    "    invalid_label = [x[0] for x in all_invalid_tickets(neighbor_tickets, rule_dict)]\n",
    "    \n",
    "    result = []\n",
    "    for i, t in enumerate(neighbor_tickets):\n",
    "        if i in invalid_label:\n",
    "            continue\n",
    "        result = result + [t]\n",
    "    result = result + [your_ticket]\n",
    "    return result"
   ]
  },
  {
   "cell_type": "code",
   "execution_count": 14,
   "metadata": {},
   "outputs": [],
   "source": [
    "def valid_ticket_value_rule(ticket_value, rule):\n",
    "    return (rule[0][0] <= ticket_value <= rule[0][1]) or (rule[1][0] <= ticket_value <= rule[1][1])"
   ]
  },
  {
   "cell_type": "code",
   "execution_count": 15,
   "metadata": {},
   "outputs": [],
   "source": [
    "def valid_ticket_column_rule(ticket_column, rule):\n",
    "    return all(valid_ticket_value_rule(tv, rule) for tv in ticket_column)"
   ]
  },
  {
   "cell_type": "code",
   "execution_count": 16,
   "metadata": {},
   "outputs": [],
   "source": [
    "def valid_all_columns_rules(all_tickets, rule_dict):\n",
    "    result = {}\n",
    "    for col in range(len(all_tickets[0])):\n",
    "        ticket_column = [x[col] for x in all_tickets]\n",
    "        result[col] = []\n",
    "        for rule in rule_dict.keys():\n",
    "            if valid_ticket_column_rule(ticket_column, rule_dict[rule]):\n",
    "                result[col] = result[col] + [rule]\n",
    "    return result"
   ]
  },
  {
   "cell_type": "code",
   "execution_count": 17,
   "metadata": {},
   "outputs": [],
   "source": [
    "def match_col_key(neighbor_tickets, rule_dict,  your_ticket):\n",
    "    all_tickets = all_valid_tickets(neighbor_tickets, rule_dict,  your_ticket)\n",
    "    col_key_valid = valid_all_columns_rules(all_tickets, rule_dict)\n",
    "    key_col_match = []\n",
    "    while len(key_col_match) < len(rule_dict):\n",
    "        col = {len(v):k for k, v in col_key_valid.items()}[1]\n",
    "        key = col_key_valid[col][0]\n",
    "        key_col_match.append((col,key))\n",
    "        \n",
    "        del col_key_valid[col]\n",
    "        col_key_valid = {k: [x for x in v if x != key] for k, v in col_key_valid.items()}\n",
    "    \n",
    "    return key_col_match"
   ]
  },
  {
   "cell_type": "code",
   "execution_count": 18,
   "metadata": {},
   "outputs": [],
   "source": [
    "def departure_prod(neighbor_tickets, rule_dict,  your_ticket):\n",
    "    match = match_col_key(neighbor_tickets, rule_dict,  your_ticket)\n",
    "    departure_index = [x[0] for x in match if x[1].startswith(\"departure\")]\n",
    "    result = 1\n",
    "    for i in departure_index:\n",
    "        result = result * your_ticket[i]\n",
    "    return result"
   ]
  },
  {
   "cell_type": "code",
   "execution_count": 19,
   "metadata": {},
   "outputs": [
    {
     "data": {
      "text/plain": [
       "514662805187"
      ]
     },
     "execution_count": 19,
     "metadata": {},
     "output_type": "execute_result"
    }
   ],
   "source": [
    "departure_prod(neighbor_tickets, rule_dict,  your_ticket)"
   ]
  }
 ],
 "metadata": {
  "kernelspec": {
   "display_name": "Python 3",
   "language": "python",
   "name": "python3"
  },
  "language_info": {
   "codemirror_mode": {
    "name": "ipython",
    "version": 3
   },
   "file_extension": ".py",
   "mimetype": "text/x-python",
   "name": "python",
   "nbconvert_exporter": "python",
   "pygments_lexer": "ipython3",
   "version": "3.7.3"
  }
 },
 "nbformat": 4,
 "nbformat_minor": 4
}
