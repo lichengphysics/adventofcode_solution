{
 "cells": [
  {
   "cell_type": "markdown",
   "metadata": {},
   "source": [
    "# Day 18: Operation Order\n",
    "As you look out the window and notice a heavily-forested continent slowly appear over the horizon, you are interrupted by the child sitting next to you. They're curious if you could help them with their math homework.\n",
    "\n",
    "Unfortunately, it seems like this \"math\" follows different rules than you remember.\n",
    "\n",
    "The homework (your puzzle input) consists of a series of expressions that consist of addition (+), multiplication (*), and parentheses ((...)). Just like normal math, parentheses indicate that the expression inside must be evaluated before it can be used by the surrounding expression. Addition still finds the sum of the numbers on both sides of the operator, and multiplication still finds the product.\n",
    "\n",
    "However, the rules of operator precedence have changed. Rather than evaluating multiplication before addition, the operators have the same precedence, and are evaluated left-to-right regardless of the order in which they appear.\n",
    "\n",
    "For example, the steps to evaluate the expression `1 + 2 * 3 + 4 * 5 + 6` are as follows:\n",
    "```\n",
    "1 + 2 * 3 + 4 * 5 + 6\n",
    "  3   * 3 + 4 * 5 + 6\n",
    "      9   + 4 * 5 + 6\n",
    "         13   * 5 + 6\n",
    "             65   + 6\n",
    "                 71\n",
    "```\n",
    "Parentheses can override this order; for example, here is what happens if parentheses are added to form `1 + (2 * 3) + (4 * (5 + 6))`:\n",
    "```\n",
    "1 + (2 * 3) + (4 * (5 + 6))\n",
    "1 +    6    + (4 * (5 + 6))\n",
    "     7      + (4 * (5 + 6))\n",
    "     7      + (4 *   11   )\n",
    "     7      +     44\n",
    "            51\n",
    "```\n",
    "Here are a few more examples:\n",
    "\n",
    "* `2 * 3 + (4 * 5)` becomes 26.\n",
    "* `5 + (8 * 3 + 9 + 3 * 4 * 3)` becomes 437.\n",
    "* `5 * 9 * (7 * 3 * 3 + 9 * 3 + (8 + 6 * 4))` becomes 12240.\n",
    "* `((2 + 4 * 9) * (6 + 9 * 8 + 6) + 6) + 2 + 4 * 2` becomes 13632.\n",
    "\n",
    "Before you can help with the homework, you need to understand it yourself. Evaluate the expression on each line of the homework; what is the sum of the resulting values?\n",
    "\n"
   ]
  },
  {
   "cell_type": "code",
   "execution_count": 1,
   "metadata": {},
   "outputs": [],
   "source": [
    "with open(\"input.txt\",\"r\") as f:\n",
    "    input_data = f.read().split(\"\\n\")"
   ]
  },
  {
   "cell_type": "code",
   "execution_count": 2,
   "metadata": {},
   "outputs": [],
   "source": [
    "num_list = [str(i) for i in range(10)]\n",
    "operate_map = {\"+\": (lambda x, y: x + y),\n",
    "               \"*\": (lambda x, y: x * y)}\n",
    "def calculate(row):\n",
    "    result = 0\n",
    "    operator = \"+\"\n",
    "    \n",
    "    loc = 0\n",
    "    while loc < len(row):\n",
    "        if row[loc] in num_list:\n",
    "            number = int(row[loc])\n",
    "            loc_n = loc + 1\n",
    "            while (loc_n < len(row)) and (row[loc_n] in num_list):\n",
    "                number = number * 10 + int(row[loc_n])\n",
    "                loc_n = loc_n + 1\n",
    "            result = operate_map[operator](result, number)\n",
    "            loc = loc_n\n",
    "        elif row[loc] == \"(\":\n",
    "            left = 1\n",
    "            right = 0\n",
    "            loc_n = loc\n",
    "            while left != right:\n",
    "                loc_n = loc_n + 1\n",
    "                left = left + (row[loc_n] == \"(\")\n",
    "                right = right + (row[loc_n] == \")\")  \n",
    "            row_bracket = row[loc + 1 :loc_n]\n",
    "            number = calculate(row_bracket)\n",
    "            result = operate_map[operator](result, number)\n",
    "            loc = loc_n\n",
    "        elif row[loc] in operate_map:\n",
    "            operator = row[loc]\n",
    "        loc = loc + 1\n",
    "    return result"
   ]
  },
  {
   "cell_type": "code",
   "execution_count": 3,
   "metadata": {},
   "outputs": [],
   "source": [
    "def sum_result(input_data):\n",
    "    return sum([calculate(row) for row in input_data])"
   ]
  },
  {
   "cell_type": "code",
   "execution_count": 4,
   "metadata": {},
   "outputs": [
    {
     "data": {
      "text/plain": [
       "280014646144"
      ]
     },
     "execution_count": 4,
     "metadata": {},
     "output_type": "execute_result"
    }
   ],
   "source": [
    "sum_result(input_data)"
   ]
  },
  {
   "cell_type": "markdown",
   "metadata": {},
   "source": [
    "# Part Two \n",
    "You manage to answer the child's questions and they finish part 1 of their homework, but get stuck when they reach the next section: advanced math.\n",
    "\n",
    "Now, addition and multiplication have different precedence levels, but they're not the ones you're familiar with. Instead, addition is evaluated before multiplication.\n",
    "\n",
    "For example, the steps to evaluate the expression `1 + 2 * 3 + 4 * 5 + 6` are now as follows:\n",
    "```\n",
    "1 + 2 * 3 + 4 * 5 + 6\n",
    "  3   * 3 + 4 * 5 + 6\n",
    "  3   *   7   * 5 + 6\n",
    "  3   *   7   *  11\n",
    "     21       *  11\n",
    "         231\n",
    "```\n",
    "Here are the other examples from above:\n",
    "\n",
    "* `1 + (2 * 3) + (4 * (5 + 6))` still becomes 51.\n",
    "* `2 * 3 + (4 * 5)` becomes 46.\n",
    "* `5 + (8 * 3 + 9 + 3 * 4 * 3)` becomes 1445.\n",
    "* `5 * 9 * (7 * 3 * 3 + 9 * 3 + (8 + 6 * 4))` becomes 669060.\n",
    "* `((2 + 4 * 9) * (6 + 9 * 8 + 6) + 6) + 2 + 4 * 2` becomes 23340.\n",
    "\n",
    "What do you get if you add up the results of evaluating the homework problems using these new rules?\n",
    "\n"
   ]
  },
  {
   "cell_type": "code",
   "execution_count": 5,
   "metadata": {},
   "outputs": [],
   "source": [
    "def calculate_2(row):\n",
    "    stack = []\n",
    "    \n",
    "    loc = 0\n",
    "    while loc < len(row):\n",
    "        if row[loc] in [\"+\"]:\n",
    "            stack.append(row[loc])\n",
    "        elif row[loc] not in [\"*\", \" \"]:\n",
    "            if row[loc] == \"(\":\n",
    "                left, right = 1, 0\n",
    "                loc_n = loc\n",
    "                while left != right:\n",
    "                    loc_n = loc_n + 1\n",
    "                    left = left + (row[loc_n] == \"(\")\n",
    "                    right = right + (row[loc_n] == \")\")  \n",
    "                row_bracket = row[loc + 1 :loc_n]\n",
    "                \n",
    "                number = calculate_2(row_bracket)\n",
    "            elif row[loc] in num_list:\n",
    "                number = int(row[loc])\n",
    "                loc_n = loc + 1\n",
    "                while (loc_n < len(row)) and (row[loc_n] in num_list):\n",
    "                    number = number * 10 + int(row[loc_n])\n",
    "                    loc_n = loc_n + 1               \n",
    "            loc = loc_n\n",
    "            \n",
    "            if len(stack) == 0:\n",
    "                stack.append(number)\n",
    "            else:\n",
    "                if stack[-1] == \"+\":\n",
    "                    stack.pop()\n",
    "                    previous = stack.pop()\n",
    "                    stack.append(previous + number)\n",
    "                else:\n",
    "                    stack.append(number)\n",
    "        loc = loc + 1\n",
    "    result = 1\n",
    "    for x in stack:\n",
    "        result = result * x\n",
    "    return result"
   ]
  },
  {
   "cell_type": "code",
   "execution_count": 6,
   "metadata": {},
   "outputs": [],
   "source": [
    "def sum_result_2(input_data):\n",
    "    return sum([calculate_2(row) for row in input_data])"
   ]
  },
  {
   "cell_type": "code",
   "execution_count": 7,
   "metadata": {},
   "outputs": [
    {
     "data": {
      "text/plain": [
       "9966990988262"
      ]
     },
     "execution_count": 7,
     "metadata": {},
     "output_type": "execute_result"
    }
   ],
   "source": [
    "sum_result_2(input_data)"
   ]
  },
  {
   "cell_type": "code",
   "execution_count": null,
   "metadata": {},
   "outputs": [],
   "source": []
  }
 ],
 "metadata": {
  "kernelspec": {
   "display_name": "Python 3",
   "language": "python",
   "name": "python3"
  },
  "language_info": {
   "codemirror_mode": {
    "name": "ipython",
    "version": 3
   },
   "file_extension": ".py",
   "mimetype": "text/x-python",
   "name": "python",
   "nbconvert_exporter": "python",
   "pygments_lexer": "ipython3",
   "version": "3.7.3"
  }
 },
 "nbformat": 4,
 "nbformat_minor": 4
}
