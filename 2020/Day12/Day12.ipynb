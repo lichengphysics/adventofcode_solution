{
 "cells": [
  {
   "cell_type": "markdown",
   "metadata": {},
   "source": [
    "# Day 12: Rain Risk \n",
    "Your ferry made decent progress toward the island, but the storm came in faster than anyone expected. The ferry needs to take evasive actions!\n",
    "\n",
    "Unfortunately, the ship's navigation computer seems to be malfunctioning; rather than giving a route directly to safety, it produced extremely circuitous instructions. When the captain uses the PA system to ask if anyone can help, you quickly volunteer.\n",
    "\n",
    "The navigation instructions (your puzzle input) consists of a sequence of single-character actions paired with integer input values. After staring at them for a few minutes, you work out what they probably mean:\n",
    "\n",
    "* Action N means to move north by the given value.\n",
    "* Action S means to move south by the given value.\n",
    "* Action E means to move east by the given value.\n",
    "* Action W means to move west by the given value.\n",
    "* Action L means to turn left the given number of degrees.\n",
    "* Action R means to turn right the given number of degrees.\n",
    "* Action F means to move forward by the given value in the direction the ship is currently facing.\n",
    "\n",
    "The ship starts by facing east. Only the L and R actions change the direction the ship is facing. (That is, if the ship is facing east and the next instruction is N10, the ship would move north 10 units, but would still move east if the following action were F.)\n",
    "\n",
    "For example:\n",
    "```\n",
    "F10\n",
    "N3\n",
    "F7\n",
    "R90\n",
    "F11\n",
    "```\n",
    "These instructions would be handled as follows:\n",
    "\n",
    "`F10` would move the ship 10 units east (because the ship starts by facing east) to east 10, north 0.\n",
    "\n",
    "`N3` would move the ship 3 units north to east 10, north 3.\n",
    "\n",
    "`F7` would move the ship another 7 units east (because the ship is still facing east) to east 17, north 3.\n",
    "\n",
    "`R90` would cause the ship to turn right by 90 degrees and face south; it remains at east 17, north 3.\n",
    "\n",
    "`F11` would move the ship 11 units south to east 17, south 8.\n",
    "\n",
    "At the end of these instructions, the ship's Manhattan distance (sum of the absolute values of its east/west position and its north/south position) from its starting position is 17 + 8 = 25.\n",
    "\n",
    "Figure out where the navigation instructions lead. What is the Manhattan distance between that location and the ship's starting position?"
   ]
  },
  {
   "cell_type": "code",
   "execution_count": 140,
   "metadata": {},
   "outputs": [],
   "source": [
    "with open(\"input.txt\",\"r\") as f:\n",
    "    input_data = [(x[0], int(x[1:])) for x in f.read().split(\"\\n\")]"
   ]
  },
  {
   "cell_type": "code",
   "execution_count": 141,
   "metadata": {},
   "outputs": [],
   "source": [
    "class ship_location_direction():\n",
    "    def __init__(self):\n",
    "        self.direction = 0\n",
    "        self.location = (0,0)\n",
    "        \n",
    "    def n(self, x):\n",
    "        self.location = self.location[0], self.location[1] + x\n",
    "    \n",
    "    def s(self, x):\n",
    "        self.n(-x)\n",
    "        \n",
    "    def w(self, x):\n",
    "        self.location = self.location[0]-x, self.location[1]\n",
    "        \n",
    "    def e(self, x):\n",
    "        self.w(-x)\n",
    "\n",
    "    def l(self, x):\n",
    "        self.direction = (self.direction + x) % 360\n",
    "        \n",
    "    def r(self, x):\n",
    "        self.l(-x)\n",
    "    \n",
    "    def f(self, x):\n",
    "        if self.direction == 0:\n",
    "            self.e(x)\n",
    "        elif self.direction == 90:\n",
    "            self.n(x)\n",
    "        elif self.direction == 180:\n",
    "            self.w(x)\n",
    "        else:\n",
    "            self.s(x)\n",
    "        \n",
    "    def operate(self, command):\n",
    "        op_map = {\n",
    "            \"N\":self.n,\n",
    "            \"S\":self.s,\n",
    "            \"W\":self.w,\n",
    "            \"E\":self.e,\n",
    "            \"L\":self.l,\n",
    "            \"R\":self.r,\n",
    "            \"F\":self.f\n",
    "        }\n",
    "        op = op_map[command[0]]\n",
    "        op(command[1])"
   ]
  },
  {
   "cell_type": "code",
   "execution_count": 143,
   "metadata": {},
   "outputs": [],
   "source": [
    "def distance_ship(input_data):\n",
    "    x = ship_location_direction()\n",
    "    for c in input_data:\n",
    "        x.operate(c)\n",
    "    return abs(x.location[0]) + abs(x.location[1])"
   ]
  },
  {
   "cell_type": "code",
   "execution_count": 144,
   "metadata": {},
   "outputs": [
    {
     "data": {
      "text/plain": [
       "420"
      ]
     },
     "execution_count": 144,
     "metadata": {},
     "output_type": "execute_result"
    }
   ],
   "source": [
    "distance_ship(input_data)"
   ]
  },
  {
   "cell_type": "markdown",
   "metadata": {},
   "source": [
    "# Part Two \n",
    "Before you can give the destination to the captain, you realize that the actual action meanings were printed on the back of the instructions the whole time.\n",
    "\n",
    "Almost all of the actions indicate how to move a waypoint which is relative to the ship's position:\n",
    "\n",
    "* Action N means to move the waypoint north by the given value.\n",
    "Action S means to move the waypoint south by the given value.\n",
    "Action E means to move the waypoint east by the given value.\n",
    "Action W means to move the waypoint west by the given value.\n",
    "Action L means to rotate the waypoint around the ship left (counter-clockwise) the given number of degrees.\n",
    "Action R means to rotate the waypoint around the ship right (clockwise) the given number of degrees.\n",
    "Action F means to move forward to the waypoint a number of times equal to the given value.\n",
    "The waypoint starts 10 units east and 1 unit north relative to the ship. The waypoint is relative to the ship; that is, if the ship moves, the waypoint moves with it.\n",
    "\n",
    "For example, using the same instructions as above:\n",
    "\n",
    "F10 moves the ship to the waypoint 10 times (a total of 100 units east and 10 units north), leaving the ship at east 100, north 10. The waypoint stays 10 units east and 1 unit north of the ship.\n",
    "N3 moves the waypoint 3 units north to 10 units east and 4 units north of the ship. The ship remains at east 100, north 10.\n",
    "F7 moves the ship to the waypoint 7 times (a total of 70 units east and 28 units north), leaving the ship at east 170, north 38. The waypoint stays 10 units east and 4 units north of the ship.\n",
    "R90 rotates the waypoint around the ship clockwise 90 degrees, moving it to 4 units east and 10 units south of the ship. The ship remains at east 170, north 38.\n",
    "F11 moves the ship to the waypoint 11 times (a total of 44 units east and 110 units south), leaving the ship at east 214, south 72. The waypoint stays 4 units east and 10 units south of the ship.\n",
    "After these operations, the ship's Manhattan distance from its starting position is 214 + 72 = 286.\n",
    "\n",
    "Figure out where the navigation instructions actually lead. What is the Manhattan distance between that location and the ship's starting position?\n",
    "\n"
   ]
  },
  {
   "cell_type": "code",
   "execution_count": 132,
   "metadata": {},
   "outputs": [],
   "source": [
    "class ship_waypoint_location():\n",
    "    def __init__(self, waypoint_location):\n",
    "        self.ship_location = (0,0)\n",
    "        self.waypoint_location = waypoint_location\n",
    "        \n",
    "    def n(self, x):\n",
    "        self.waypoint_location = self.waypoint_location[0], self.waypoint_location[1] + x\n",
    "    \n",
    "    def s(self, x):\n",
    "        self.n(-x)\n",
    "        \n",
    "    def w(self, x):\n",
    "        self.waypoint_location =  self.waypoint_location[0] - x, self.waypoint_location[1]\n",
    "        \n",
    "    def e(self, x):\n",
    "        self.w(-x)\n",
    "        \n",
    "    def l(self, x):\n",
    "        if x % 360 == 90:\n",
    "            self.waypoint_location = self.waypoint_location[1] * (-1), self.waypoint_location[0]\n",
    "        elif x % 360 == 180:\n",
    "            self.waypoint_location = self.waypoint_location[0] * (-1), self.waypoint_location[1] * (-1)\n",
    "        elif x % 360 == 270:\n",
    "            self.waypoint_location = self.waypoint_location[1], self.waypoint_location[0]* (-1)\n",
    "         \n",
    "        \n",
    "    def r(self, x):\n",
    "        self.l(-x)\n",
    "    \n",
    "    def f(self, x):\n",
    "        self.ship_location = self.ship_location[0]  + x * self.waypoint_location[0],\\\n",
    "            self.ship_location[1]  + x * self.waypoint_location[1]\n",
    "        \n",
    "        \n",
    "    def operate(self, command):\n",
    "        op_map = {\n",
    "            \"N\":self.n,\n",
    "            \"S\":self.s,\n",
    "            \"W\":self.w,\n",
    "            \"E\":self.e,\n",
    "            \"L\":self.l,\n",
    "            \"R\":self.r,\n",
    "            \"F\":self.f\n",
    "        }\n",
    "        op = op_map[command[0]]\n",
    "        op(command[1])"
   ]
  },
  {
   "cell_type": "code",
   "execution_count": 137,
   "metadata": {},
   "outputs": [],
   "source": [
    "def distance_ship_2(input_data_clean, waypoint_location):\n",
    "    x = ship_waypoint_location(waypoint_location)\n",
    "    for c in input_data_clean:\n",
    "        x.operate(c)\n",
    "    return abs(x.ship_location[0]) + abs(x.ship_location[1])"
   ]
  },
  {
   "cell_type": "code",
   "execution_count": 138,
   "metadata": {},
   "outputs": [
    {
     "data": {
      "text/plain": [
       "42073"
      ]
     },
     "execution_count": 138,
     "metadata": {},
     "output_type": "execute_result"
    }
   ],
   "source": [
    "distance_ship_2(input_data_clean, (10,1))"
   ]
  }
 ],
 "metadata": {
  "kernelspec": {
   "display_name": "Python 3",
   "language": "python",
   "name": "python3"
  },
  "language_info": {
   "codemirror_mode": {
    "name": "ipython",
    "version": 3
   },
   "file_extension": ".py",
   "mimetype": "text/x-python",
   "name": "python",
   "nbconvert_exporter": "python",
   "pygments_lexer": "ipython3",
   "version": "3.7.3"
  }
 },
 "nbformat": 4,
 "nbformat_minor": 4
}
